{
  "nbformat": 4,
  "nbformat_minor": 0,
  "metadata": {
    "colab": {
      "name": "Disaster-prediction.ipynb",
      "provenance": [],
      "collapsed_sections": [],
      "authorship_tag": "ABX9TyMC5xybilcWo/ptq1JzQUx+",
      "include_colab_link": true
    },
    "kernelspec": {
      "name": "python3",
      "display_name": "Python 3"
    },
    "language_info": {
      "name": "python"
    }
  },
  "cells": [
    {
      "cell_type": "markdown",
      "metadata": {
        "id": "view-in-github",
        "colab_type": "text"
      },
      "source": [
        "<a href=\"https://colab.research.google.com/github/tanyarw/disaster-prediction-backend/blob/main/Disaster_prediction.ipynb\" target=\"_parent\"><img src=\"https://colab.research.google.com/assets/colab-badge.svg\" alt=\"Open In Colab\"/></a>"
      ]
    },
    {
      "cell_type": "markdown",
      "metadata": {
        "id": "tRu9wbpKEoaX"
      },
      "source": [
        "# **Disaster Prediction Analysis**"
      ]
    },
    {
      "cell_type": "markdown",
      "metadata": {
        "id": "gKLQ_L8t6XAn"
      },
      "source": [
        "Mount content"
      ]
    },
    {
      "cell_type": "code",
      "metadata": {
        "id": "3N2LyNUxdTVz",
        "colab": {
          "base_uri": "https://localhost:8080/"
        },
        "outputId": "9b389a4e-6c4f-49a8-c66d-e18367cecc91"
      },
      "source": [
        "from google.colab import drive\n",
        "drive.mount('/content/drive')"
      ],
      "execution_count": 1,
      "outputs": [
        {
          "output_type": "stream",
          "text": [
            "Drive already mounted at /content/drive; to attempt to forcibly remount, call drive.mount(\"/content/drive\", force_remount=True).\n"
          ],
          "name": "stdout"
        }
      ]
    },
    {
      "cell_type": "code",
      "metadata": {
        "id": "TI0aVMK6dVZ8"
      },
      "source": [
        "import os\n",
        "os.chdir(\"drive/My Drive/DV: Disaster Prediction\")"
      ],
      "execution_count": 2,
      "outputs": []
    },
    {
      "cell_type": "markdown",
      "metadata": {
        "id": "rRgS_pJp_vNK"
      },
      "source": [
        "Import Libraries"
      ]
    },
    {
      "cell_type": "code",
      "metadata": {
        "id": "veL0L259_KsT"
      },
      "source": [
        "import pandas as pd\n",
        "import numpy as np\n",
        "from sklearn.preprocessing import OneHotEncoder\n",
        "from sklearn import preprocessing\n",
        "from sklearn import utils\n",
        "from sklearn.model_selection import train_test_split\n",
        "from sklearn import metrics"
      ],
      "execution_count": 3,
      "outputs": []
    },
    {
      "cell_type": "code",
      "metadata": {
        "id": "DjnhoQNT2iok"
      },
      "source": [
        "from sklearn.linear_model import LinearRegression\n",
        "from sklearn.tree import DecisionTreeRegressor\n",
        "from sklearn.ensemble import RandomForestRegressor\n",
        "from xgboost import XGBRegressor\n",
        "from sklearn.metrics import mean_absolute_error"
      ],
      "execution_count": 4,
      "outputs": []
    },
    {
      "cell_type": "markdown",
      "metadata": {
        "id": "yKT5m3DGi0xU"
      },
      "source": [
        "# **GLOBAL LANDSLIDES**\n",
        "\n",
        "**TARGET:** PREDICT FATALITY COUNT"
      ]
    },
    {
      "cell_type": "markdown",
      "metadata": {
        "id": "LcnKL76A6au4"
      },
      "source": [
        "Read Dataset"
      ]
    },
    {
      "cell_type": "code",
      "metadata": {
        "id": "iHqRbo0cAF0V",
        "colab": {
          "base_uri": "https://localhost:8080/",
          "height": 482
        },
        "outputId": "822614eb-c0cc-4bc0-bce4-264fe0dfa460"
      },
      "source": [
        "landslide_df = pd.read_csv('Datasets/NASA_Global_Landslide_Catalog.csv')\n",
        "landslide_df.head()"
      ],
      "execution_count": 5,
      "outputs": [
        {
          "output_type": "execute_result",
          "data": {
            "text/html": [
              "<div>\n",
              "<style scoped>\n",
              "    .dataframe tbody tr th:only-of-type {\n",
              "        vertical-align: middle;\n",
              "    }\n",
              "\n",
              "    .dataframe tbody tr th {\n",
              "        vertical-align: top;\n",
              "    }\n",
              "\n",
              "    .dataframe thead th {\n",
              "        text-align: right;\n",
              "    }\n",
              "</style>\n",
              "<table border=\"1\" class=\"dataframe\">\n",
              "  <thead>\n",
              "    <tr style=\"text-align: right;\">\n",
              "      <th></th>\n",
              "      <th>source_name</th>\n",
              "      <th>source_link</th>\n",
              "      <th>event_id</th>\n",
              "      <th>event_date</th>\n",
              "      <th>event_time</th>\n",
              "      <th>event_title</th>\n",
              "      <th>event_description</th>\n",
              "      <th>location_description</th>\n",
              "      <th>location_accuracy</th>\n",
              "      <th>landslide_category</th>\n",
              "      <th>landslide_trigger</th>\n",
              "      <th>landslide_size</th>\n",
              "      <th>landslide_setting</th>\n",
              "      <th>fatality_count</th>\n",
              "      <th>injury_count</th>\n",
              "      <th>storm_name</th>\n",
              "      <th>photo_link</th>\n",
              "      <th>notes</th>\n",
              "      <th>event_import_source</th>\n",
              "      <th>event_import_id</th>\n",
              "      <th>country_name</th>\n",
              "      <th>country_code</th>\n",
              "      <th>admin_division_name</th>\n",
              "      <th>admin_division_population</th>\n",
              "      <th>gazeteer_closest_point</th>\n",
              "      <th>gazeteer_distance</th>\n",
              "      <th>submitted_date</th>\n",
              "      <th>created_date</th>\n",
              "      <th>last_edited_date</th>\n",
              "      <th>longitude</th>\n",
              "      <th>latitude</th>\n",
              "    </tr>\n",
              "  </thead>\n",
              "  <tbody>\n",
              "    <tr>\n",
              "      <th>0</th>\n",
              "      <td>AGU</td>\n",
              "      <td>https://blogs.agu.org/landslideblog/2008/10/14...</td>\n",
              "      <td>684</td>\n",
              "      <td>08/01/2008 12:00:00 AM</td>\n",
              "      <td>NaN</td>\n",
              "      <td>Sigou Village, Loufan County, Shanxi Province</td>\n",
              "      <td>occurred early in morning, 11 villagers buried...</td>\n",
              "      <td>Sigou Village, Loufan County, Shanxi Province</td>\n",
              "      <td>unknown</td>\n",
              "      <td>landslide</td>\n",
              "      <td>rain</td>\n",
              "      <td>large</td>\n",
              "      <td>mine</td>\n",
              "      <td>11.0</td>\n",
              "      <td>NaN</td>\n",
              "      <td>NaN</td>\n",
              "      <td>NaN</td>\n",
              "      <td>NaN</td>\n",
              "      <td>glc</td>\n",
              "      <td>684.0</td>\n",
              "      <td>China</td>\n",
              "      <td>CN</td>\n",
              "      <td>Shaanxi</td>\n",
              "      <td>0.0</td>\n",
              "      <td>Jingyang</td>\n",
              "      <td>41.02145</td>\n",
              "      <td>04/01/2014 12:00:00 AM</td>\n",
              "      <td>11/20/2017 03:17:00 PM</td>\n",
              "      <td>02/15/2018 03:51:00 PM</td>\n",
              "      <td>107.4500</td>\n",
              "      <td>32.5625</td>\n",
              "    </tr>\n",
              "    <tr>\n",
              "      <th>1</th>\n",
              "      <td>Oregonian</td>\n",
              "      <td>http://www.oregonlive.com/news/index.ssf/2009/...</td>\n",
              "      <td>956</td>\n",
              "      <td>01/02/2009 02:00:00 AM</td>\n",
              "      <td>NaN</td>\n",
              "      <td>Lake Oswego, Oregon</td>\n",
              "      <td>Hours of heavy rain are to blame for an overni...</td>\n",
              "      <td>Lake Oswego, Oregon</td>\n",
              "      <td>5km</td>\n",
              "      <td>mudslide</td>\n",
              "      <td>downpour</td>\n",
              "      <td>small</td>\n",
              "      <td>unknown</td>\n",
              "      <td>0.0</td>\n",
              "      <td>NaN</td>\n",
              "      <td>NaN</td>\n",
              "      <td>NaN</td>\n",
              "      <td>NaN</td>\n",
              "      <td>glc</td>\n",
              "      <td>956.0</td>\n",
              "      <td>United States</td>\n",
              "      <td>US</td>\n",
              "      <td>Oregon</td>\n",
              "      <td>36619.0</td>\n",
              "      <td>Lake Oswego</td>\n",
              "      <td>0.60342</td>\n",
              "      <td>04/01/2014 12:00:00 AM</td>\n",
              "      <td>11/20/2017 03:17:00 PM</td>\n",
              "      <td>02/15/2018 03:51:00 PM</td>\n",
              "      <td>-122.6630</td>\n",
              "      <td>45.4200</td>\n",
              "    </tr>\n",
              "    <tr>\n",
              "      <th>2</th>\n",
              "      <td>CBS News</td>\n",
              "      <td>https://www.cbsnews.com/news/dozens-missing-af...</td>\n",
              "      <td>973</td>\n",
              "      <td>01/19/2007 12:00:00 AM</td>\n",
              "      <td>NaN</td>\n",
              "      <td>San Ramon district, 195 miles northeast of the...</td>\n",
              "      <td>(CBS/AP) At least 10 people died and as many a...</td>\n",
              "      <td>San Ramon district, 195 miles northeast of the...</td>\n",
              "      <td>10km</td>\n",
              "      <td>landslide</td>\n",
              "      <td>downpour</td>\n",
              "      <td>large</td>\n",
              "      <td>unknown</td>\n",
              "      <td>10.0</td>\n",
              "      <td>NaN</td>\n",
              "      <td>NaN</td>\n",
              "      <td>NaN</td>\n",
              "      <td>NaN</td>\n",
              "      <td>glc</td>\n",
              "      <td>973.0</td>\n",
              "      <td>Peru</td>\n",
              "      <td>PE</td>\n",
              "      <td>Junín</td>\n",
              "      <td>14708.0</td>\n",
              "      <td>San Ramón</td>\n",
              "      <td>0.85548</td>\n",
              "      <td>04/01/2014 12:00:00 AM</td>\n",
              "      <td>11/20/2017 03:17:00 PM</td>\n",
              "      <td>02/15/2018 03:51:00 PM</td>\n",
              "      <td>-75.3587</td>\n",
              "      <td>-11.1295</td>\n",
              "    </tr>\n",
              "    <tr>\n",
              "      <th>3</th>\n",
              "      <td>Reuters</td>\n",
              "      <td>https://in.reuters.com/article/idINIndia-41450...</td>\n",
              "      <td>1067</td>\n",
              "      <td>07/31/2009 12:00:00 AM</td>\n",
              "      <td>NaN</td>\n",
              "      <td>Dailekh district</td>\n",
              "      <td>One person was killed in Dailekh district, pol...</td>\n",
              "      <td>Dailekh district</td>\n",
              "      <td>unknown</td>\n",
              "      <td>landslide</td>\n",
              "      <td>monsoon</td>\n",
              "      <td>medium</td>\n",
              "      <td>unknown</td>\n",
              "      <td>1.0</td>\n",
              "      <td>NaN</td>\n",
              "      <td>NaN</td>\n",
              "      <td>NaN</td>\n",
              "      <td>NaN</td>\n",
              "      <td>glc</td>\n",
              "      <td>1067.0</td>\n",
              "      <td>Nepal</td>\n",
              "      <td>NP</td>\n",
              "      <td>Mid Western</td>\n",
              "      <td>20908.0</td>\n",
              "      <td>Dailekh</td>\n",
              "      <td>0.75395</td>\n",
              "      <td>04/01/2014 12:00:00 AM</td>\n",
              "      <td>11/20/2017 03:17:00 PM</td>\n",
              "      <td>02/15/2018 03:51:00 PM</td>\n",
              "      <td>81.7080</td>\n",
              "      <td>28.8378</td>\n",
              "    </tr>\n",
              "    <tr>\n",
              "      <th>4</th>\n",
              "      <td>The Freeman</td>\n",
              "      <td>http://www.philstar.com/cebu-news/621414/lands...</td>\n",
              "      <td>2603</td>\n",
              "      <td>10/16/2010 12:00:00 PM</td>\n",
              "      <td>NaN</td>\n",
              "      <td>sitio Bakilid in barangay Lahug</td>\n",
              "      <td>Another landslide in sitio Bakilid in barangay...</td>\n",
              "      <td>sitio Bakilid in barangay Lahug</td>\n",
              "      <td>5km</td>\n",
              "      <td>landslide</td>\n",
              "      <td>tropical_cyclone</td>\n",
              "      <td>medium</td>\n",
              "      <td>unknown</td>\n",
              "      <td>0.0</td>\n",
              "      <td>NaN</td>\n",
              "      <td>Supertyphoon Juan (Megi)</td>\n",
              "      <td>NaN</td>\n",
              "      <td>NaN</td>\n",
              "      <td>glc</td>\n",
              "      <td>2603.0</td>\n",
              "      <td>Philippines</td>\n",
              "      <td>PH</td>\n",
              "      <td>Central Visayas</td>\n",
              "      <td>798634.0</td>\n",
              "      <td>Cebu City</td>\n",
              "      <td>2.02204</td>\n",
              "      <td>04/01/2014 12:00:00 AM</td>\n",
              "      <td>11/20/2017 03:17:00 PM</td>\n",
              "      <td>02/15/2018 03:51:00 PM</td>\n",
              "      <td>123.8978</td>\n",
              "      <td>10.3336</td>\n",
              "    </tr>\n",
              "  </tbody>\n",
              "</table>\n",
              "</div>"
            ],
            "text/plain": [
              "   source_name  ... latitude\n",
              "0          AGU  ...  32.5625\n",
              "1    Oregonian  ...  45.4200\n",
              "2     CBS News  ... -11.1295\n",
              "3      Reuters  ...  28.8378\n",
              "4  The Freeman  ...  10.3336\n",
              "\n",
              "[5 rows x 31 columns]"
            ]
          },
          "metadata": {
            "tags": []
          },
          "execution_count": 5
        }
      ]
    },
    {
      "cell_type": "markdown",
      "metadata": {
        "id": "R6OC0bGQ_n04"
      },
      "source": [
        "Drop unwanted features"
      ]
    },
    {
      "cell_type": "code",
      "metadata": {
        "id": "82_1r43YAw_C"
      },
      "source": [
        "landslide_df = landslide_df.drop(['source_name', 'source_link','event_id', 'event_date','event_time',\n",
        "                        'event_title', 'event_description', 'location_description','storm_name','photo_link',\n",
        "                        'notes', 'event_import_source','event_import_id','country_code','submitted_date', \n",
        "                        'created_date', 'last_edited_date','admin_division_name','gazeteer_closest_point', 'gazeteer_distance','injury_count'], axis = 1)"
      ],
      "execution_count": 6,
      "outputs": []
    },
    {
      "cell_type": "markdown",
      "metadata": {
        "id": "yhlDVNSGK43y"
      },
      "source": [
        "Drop unknown categories"
      ]
    },
    {
      "cell_type": "code",
      "metadata": {
        "id": "KKzCj1-__rab"
      },
      "source": [
        "to_remove = landslide_df[ (landslide_df['landslide_category'] == 'unknown') ].index\n",
        "landslide_df = landslide_df.drop(to_remove)\n",
        "to_remove = landslide_df[(landslide_df['location_accuracy'] == 'unknown')].index\n",
        "landslide_df = landslide_df.drop(to_remove)"
      ],
      "execution_count": 7,
      "outputs": []
    },
    {
      "cell_type": "code",
      "metadata": {
        "id": "UWQrV63TnRAI"
      },
      "source": [
        "landslide_df = landslide_df.dropna(subset=['location_accuracy', 'landslide_category','landslide_trigger','landslide_size','landslide_setting','country_name'])"
      ],
      "execution_count": 8,
      "outputs": []
    },
    {
      "cell_type": "markdown",
      "metadata": {
        "id": "jlu46dag6oYC"
      },
      "source": [
        "Determine feature and target vectors"
      ]
    },
    {
      "cell_type": "code",
      "metadata": {
        "id": "SO0fChvNFzDm"
      },
      "source": [
        "X_features = list(landslide_df.columns)\n",
        "X_features.remove('fatality_count')\n",
        "X = landslide_df[X_features]\n",
        "y = landslide_df['fatality_count']\n",
        "y = y.fillna(y.median()) # deal with na"
      ],
      "execution_count": 9,
      "outputs": []
    },
    {
      "cell_type": "markdown",
      "metadata": {
        "id": "5Tu_yOsbjOXa"
      },
      "source": [
        "Encoding of categorical data"
      ]
    },
    {
      "cell_type": "code",
      "metadata": {
        "id": "br3bgafFj_5w"
      },
      "source": [
        "categorical = []\n",
        "for i in X_features:\n",
        "    if landslide_df[i].dtype==\"object\":\n",
        "        categorical.append(i)"
      ],
      "execution_count": 10,
      "outputs": []
    },
    {
      "cell_type": "code",
      "metadata": {
        "colab": {
          "base_uri": "https://localhost:8080/"
        },
        "id": "Of2y0IfTkVCy",
        "outputId": "9b7ea987-a83c-402a-cfa1-3803a1994178"
      },
      "source": [
        "from sklearn import preprocessing\n",
        "label_maps = {}\n",
        "for i in categorical:\n",
        "    le = preprocessing.LabelEncoder().fit(X[i])\n",
        "    X[i]=le.transform(X[i])\n",
        "    d = dict(zip(le.classes_, le.transform(le.classes_)))\n",
        "    label_maps[i] = d\n",
        "print(label_maps)"
      ],
      "execution_count": 11,
      "outputs": [
        {
          "output_type": "stream",
          "text": [
            "{'location_accuracy': {'100km': 0, '10km': 1, '1km': 2, '250km': 3, '25km': 4, '50km': 5, '5km': 6, 'exact': 7}, 'landslide_category': {'complex': 0, 'creep': 1, 'debris_flow': 2, 'earth_flow': 3, 'lahar': 4, 'landslide': 5, 'mudslide': 6, 'other': 7, 'riverbank_collapse': 8, 'rock_fall': 9, 'snow_avalanche': 10, 'translational_slide': 11}, 'landslide_trigger': {'construction': 0, 'continuous_rain': 1, 'dam_embankment_collapse': 2, 'downpour': 3, 'earthquake': 4, 'flooding': 5, 'freeze_thaw': 6, 'mining': 7, 'monsoon': 8, 'no_apparent_trigger': 9, 'other': 10, 'rain': 11, 'snowfall_snowmelt': 12, 'tropical_cyclone': 13, 'unknown': 14, 'volcano': 15}, 'landslide_size': {'large': 0, 'medium': 1, 'small': 2, 'unknown': 3, 'very_large': 4}, 'landslide_setting': {'above_river': 0, 'above_road': 1, 'below_road': 2, 'bluff': 3, 'burned_area': 4, 'deforested_slope': 5, 'engineered_slope': 6, 'mine': 7, 'natural_slope': 8, 'other': 9, 'retaining_wall': 10, 'unknown': 11, 'urban': 12}, 'country_name': {'Afghanistan': 0, 'Algeria': 1, 'American Samoa': 2, 'Angola': 3, 'Argentina': 4, 'Armenia': 5, 'Australia': 6, 'Austria': 7, 'Azerbaijan': 8, 'Bangladesh': 9, 'Barbados': 10, 'Belize': 11, 'Bermuda': 12, 'Bhutan': 13, 'Bolivia': 14, 'Bosnia and Herzegovina': 15, 'Brazil': 16, 'Brunei': 17, 'Bulgaria': 18, 'Burkina Faso': 19, 'Burundi': 20, 'Cameroon': 21, 'Canada': 22, 'Chile': 23, 'China': 24, 'Colombia': 25, 'Costa Rica': 26, 'Croatia': 27, 'Cuba': 28, 'Czech Republic': 29, 'Czechia': 30, 'Democratic Republic of the Congo': 31, 'Dominica': 32, 'Dominican Republic': 33, 'East Timor': 34, 'Ecuador': 35, 'Egypt': 36, 'El Salvador': 37, 'Ethiopia': 38, 'Fiji': 39, 'France': 40, 'Gabon': 41, 'Georgia': 42, 'Germany': 43, 'Ghana': 44, 'Greece': 45, 'Grenada': 46, 'Guam': 47, 'Guatemala': 48, 'Guinea': 49, 'Haiti': 50, 'Honduras': 51, 'Hong Kong': 52, 'Iceland': 53, 'India': 54, 'Indonesia': 55, 'Iran': 56, 'Ireland': 57, 'Isle of Man': 58, 'Israel': 59, 'Italy': 60, 'Ivory Coast': 61, 'Jamaica': 62, 'Japan': 63, 'Jersey': 64, 'Jordan': 65, 'Kazakhstan': 66, 'Kenya': 67, 'Kyrgyzstan': 68, 'Laos': 69, 'Lebanon': 70, 'Liberia': 71, 'Luxembourg': 72, 'Macedonia': 73, 'Madagascar': 74, 'Malaysia': 75, 'Mauritius': 76, 'Mexico': 77, 'Montenegro': 78, 'Morocco': 79, 'Myanmar [Burma]': 80, 'Namibia': 81, 'Nepal': 82, 'New Zealand': 83, 'Nicaragua': 84, 'Nigeria': 85, 'North Korea': 86, 'Norway': 87, 'Oman': 88, 'Pakistan': 89, 'Panama': 90, 'Papua New Guinea': 91, 'Paraguay': 92, 'Peru': 93, 'Philippines': 94, 'Poland': 95, 'Portugal': 96, 'Puerto Rico': 97, 'Republic of the Congo': 98, 'Romania': 99, 'Russia': 100, 'Rwanda': 101, 'Saint Kitts and Nevis': 102, 'Saint Lucia': 103, 'Saint Vincent and the Grenadines': 104, 'Saudi Arabia': 105, 'Serbia': 106, 'Sierra Leone': 107, 'Singapore': 108, 'Slovakia': 109, 'Slovenia': 110, 'Solomon Islands': 111, 'South Africa': 112, 'South Korea': 113, 'Spain': 114, 'Sri Lanka': 115, 'Sudan': 116, 'Swaziland': 117, 'Switzerland': 118, 'Taiwan': 119, 'Tajikistan': 120, 'Tanzania': 121, 'Thailand': 122, 'Trinidad and Tobago': 123, 'Turkey': 124, 'U.S. Virgin Islands': 125, 'Uganda': 126, 'Ukraine': 127, 'United Arab Emirates': 128, 'United Kingdom': 129, 'United States': 130, 'Uzbekistan': 131, 'Vanuatu': 132, 'Venezuela': 133, 'Vietnam': 134, 'Yemen': 135, 'Zambia': 136}}\n"
          ],
          "name": "stdout"
        },
        {
          "output_type": "stream",
          "text": [
            "/usr/local/lib/python3.7/dist-packages/ipykernel_launcher.py:5: SettingWithCopyWarning: \n",
            "A value is trying to be set on a copy of a slice from a DataFrame.\n",
            "Try using .loc[row_indexer,col_indexer] = value instead\n",
            "\n",
            "See the caveats in the documentation: https://pandas.pydata.org/pandas-docs/stable/user_guide/indexing.html#returning-a-view-versus-a-copy\n",
            "  \"\"\"\n"
          ],
          "name": "stderr"
        }
      ]
    },
    {
      "cell_type": "code",
      "metadata": {
        "colab": {
          "base_uri": "https://localhost:8080/",
          "height": 222
        },
        "id": "fTw7ZlerkkIk",
        "outputId": "c61bcaa4-e9dd-4622-dd27-7734abf76635"
      },
      "source": [
        "X.head()"
      ],
      "execution_count": 12,
      "outputs": [
        {
          "output_type": "execute_result",
          "data": {
            "text/html": [
              "<div>\n",
              "<style scoped>\n",
              "    .dataframe tbody tr th:only-of-type {\n",
              "        vertical-align: middle;\n",
              "    }\n",
              "\n",
              "    .dataframe tbody tr th {\n",
              "        vertical-align: top;\n",
              "    }\n",
              "\n",
              "    .dataframe thead th {\n",
              "        text-align: right;\n",
              "    }\n",
              "</style>\n",
              "<table border=\"1\" class=\"dataframe\">\n",
              "  <thead>\n",
              "    <tr style=\"text-align: right;\">\n",
              "      <th></th>\n",
              "      <th>location_accuracy</th>\n",
              "      <th>landslide_category</th>\n",
              "      <th>landslide_trigger</th>\n",
              "      <th>landslide_size</th>\n",
              "      <th>landslide_setting</th>\n",
              "      <th>country_name</th>\n",
              "      <th>admin_division_population</th>\n",
              "      <th>longitude</th>\n",
              "      <th>latitude</th>\n",
              "    </tr>\n",
              "  </thead>\n",
              "  <tbody>\n",
              "    <tr>\n",
              "      <th>1</th>\n",
              "      <td>6</td>\n",
              "      <td>6</td>\n",
              "      <td>3</td>\n",
              "      <td>2</td>\n",
              "      <td>11</td>\n",
              "      <td>130</td>\n",
              "      <td>36619.0</td>\n",
              "      <td>-122.6630</td>\n",
              "      <td>45.4200</td>\n",
              "    </tr>\n",
              "    <tr>\n",
              "      <th>2</th>\n",
              "      <td>1</td>\n",
              "      <td>5</td>\n",
              "      <td>3</td>\n",
              "      <td>0</td>\n",
              "      <td>11</td>\n",
              "      <td>93</td>\n",
              "      <td>14708.0</td>\n",
              "      <td>-75.3587</td>\n",
              "      <td>-11.1295</td>\n",
              "    </tr>\n",
              "    <tr>\n",
              "      <th>4</th>\n",
              "      <td>6</td>\n",
              "      <td>5</td>\n",
              "      <td>13</td>\n",
              "      <td>1</td>\n",
              "      <td>11</td>\n",
              "      <td>94</td>\n",
              "      <td>798634.0</td>\n",
              "      <td>123.8978</td>\n",
              "      <td>10.3336</td>\n",
              "    </tr>\n",
              "    <tr>\n",
              "      <th>5</th>\n",
              "      <td>6</td>\n",
              "      <td>5</td>\n",
              "      <td>3</td>\n",
              "      <td>1</td>\n",
              "      <td>11</td>\n",
              "      <td>94</td>\n",
              "      <td>2404.0</td>\n",
              "      <td>124.9668</td>\n",
              "      <td>10.7004</td>\n",
              "    </tr>\n",
              "    <tr>\n",
              "      <th>6</th>\n",
              "      <td>6</td>\n",
              "      <td>6</td>\n",
              "      <td>3</td>\n",
              "      <td>2</td>\n",
              "      <td>11</td>\n",
              "      <td>130</td>\n",
              "      <td>2126.0</td>\n",
              "      <td>-117.2665</td>\n",
              "      <td>48.2797</td>\n",
              "    </tr>\n",
              "  </tbody>\n",
              "</table>\n",
              "</div>"
            ],
            "text/plain": [
              "   location_accuracy  landslide_category  ...  longitude  latitude\n",
              "1                  6                   6  ...  -122.6630   45.4200\n",
              "2                  1                   5  ...   -75.3587  -11.1295\n",
              "4                  6                   5  ...   123.8978   10.3336\n",
              "5                  6                   5  ...   124.9668   10.7004\n",
              "6                  6                   6  ...  -117.2665   48.2797\n",
              "\n",
              "[5 rows x 9 columns]"
            ]
          },
          "metadata": {
            "tags": []
          },
          "execution_count": 12
        }
      ]
    },
    {
      "cell_type": "markdown",
      "metadata": {
        "id": "0r-QRHiFcmCQ"
      },
      "source": [
        "Train and test split"
      ]
    },
    {
      "cell_type": "code",
      "metadata": {
        "id": "kjApf6KIbkwu"
      },
      "source": [
        "X_train, X_test, y_train, y_test = train_test_split(X, y, test_size = 0.20)"
      ],
      "execution_count": 13,
      "outputs": []
    },
    {
      "cell_type": "markdown",
      "metadata": {
        "id": "J0kKvdS_KjTX"
      },
      "source": [
        "**Perform regression**"
      ]
    },
    {
      "cell_type": "code",
      "metadata": {
        "id": "Z8DjynSrGtQY"
      },
      "source": [
        "clf = RandomForestRegressor(n_estimators=150, max_depth = None, criterion='mse')\n",
        "clf.fit(X_train, y_train)\n",
        "y_pred_clf = clf.predict(X_test)"
      ],
      "execution_count": 14,
      "outputs": []
    },
    {
      "cell_type": "code",
      "metadata": {
        "id": "eBBT5GyH9fPy"
      },
      "source": [
        "reg = LinearRegression()\n",
        "reg.fit(X_train, y_train)\n",
        "y_pred_reg = reg.predict(X_test)"
      ],
      "execution_count": 15,
      "outputs": []
    },
    {
      "cell_type": "code",
      "metadata": {
        "id": "-AOWst6c-HMb"
      },
      "source": [
        "dec = DecisionTreeRegressor()\n",
        "dec.fit(X_train, y_train)\n",
        "y_pred_dec = dec.predict(X_test)"
      ],
      "execution_count": 16,
      "outputs": []
    },
    {
      "cell_type": "code",
      "metadata": {
        "colab": {
          "base_uri": "https://localhost:8080/"
        },
        "id": "XDvy3bN9_Zf8",
        "outputId": "87f52751-0ecf-4e97-b48e-d884184c18ea"
      },
      "source": [
        "xgb = XGBRegressor()\n",
        "xgb.fit(X_train, y_train)\n",
        "y_pred_xgb = xgb.predict(X_test)"
      ],
      "execution_count": 17,
      "outputs": [
        {
          "output_type": "stream",
          "text": [
            "[10:37:30] WARNING: /workspace/src/objective/regression_obj.cu:152: reg:linear is now deprecated in favor of reg:squarederror.\n"
          ],
          "name": "stdout"
        }
      ]
    },
    {
      "cell_type": "markdown",
      "metadata": {
        "id": "j45TfOEhKs1C"
      },
      "source": [
        "Evaluation"
      ]
    },
    {
      "cell_type": "code",
      "metadata": {
        "colab": {
          "base_uri": "https://localhost:8080/"
        },
        "id": "3YbNfMNcv58S",
        "outputId": "b0bf355e-5b10-4ba7-a1b3-726a23005eec"
      },
      "source": [
        "print(\"MEAN ABSOLUTE ERROR\")\n",
        "print(\"Linear: \\t\",mean_absolute_error(y_test, y_pred_reg))\n",
        "print(\"Decision Tree: \\t\",mean_absolute_error(y_test, y_pred_dec))\n",
        "print(\"Random Forest: \\t\",mean_absolute_error(y_test, y_pred_clf))\n",
        "print(\"XGBoost: \\t\",mean_absolute_error(y_test, y_pred_xgb))"
      ],
      "execution_count": 18,
      "outputs": [
        {
          "output_type": "stream",
          "text": [
            "MEAN ABSOLUTE ERROR\n",
            "Linear: \t 8.329373033190977\n",
            "Decision Tree: \t 3.6047164514317798\n",
            "Random Forest: \t 3.556945536215609\n",
            "XGBoost: \t 3.719126223664415\n"
          ],
          "name": "stdout"
        }
      ]
    },
    {
      "cell_type": "markdown",
      "metadata": {
        "id": "Ye9Tzil7ivy9"
      },
      "source": [
        "# **INDIAN RAINFALL**\n",
        "\n",
        "**TARGET:** PREDICT NEXT MONTH RAIN"
      ]
    },
    {
      "cell_type": "markdown",
      "metadata": {
        "id": "z0L1gZHKRi1K"
      },
      "source": [
        "Read dataset"
      ]
    },
    {
      "cell_type": "code",
      "metadata": {
        "id": "WFWkpXJCiwCN"
      },
      "source": [
        "rainfall_df = pd.read_csv('Datasets/rainfall_india_1901-2017.csv')"
      ],
      "execution_count": 19,
      "outputs": []
    },
    {
      "cell_type": "code",
      "metadata": {
        "colab": {
          "base_uri": "https://localhost:8080/",
          "height": 202
        },
        "id": "VvJadMLY1IXo",
        "outputId": "5aa0fe37-7709-4ebe-c33f-c95d8f7e580f"
      },
      "source": [
        "rainfall_df.head()"
      ],
      "execution_count": 20,
      "outputs": [
        {
          "output_type": "execute_result",
          "data": {
            "text/html": [
              "<div>\n",
              "<style scoped>\n",
              "    .dataframe tbody tr th:only-of-type {\n",
              "        vertical-align: middle;\n",
              "    }\n",
              "\n",
              "    .dataframe tbody tr th {\n",
              "        vertical-align: top;\n",
              "    }\n",
              "\n",
              "    .dataframe thead th {\n",
              "        text-align: right;\n",
              "    }\n",
              "</style>\n",
              "<table border=\"1\" class=\"dataframe\">\n",
              "  <thead>\n",
              "    <tr style=\"text-align: right;\">\n",
              "      <th></th>\n",
              "      <th>SUBDIVISION</th>\n",
              "      <th>YEAR</th>\n",
              "      <th>JAN</th>\n",
              "      <th>FEB</th>\n",
              "      <th>MAR</th>\n",
              "      <th>APR</th>\n",
              "      <th>MAY</th>\n",
              "      <th>JUN</th>\n",
              "      <th>JUL</th>\n",
              "      <th>AUG</th>\n",
              "      <th>SEP</th>\n",
              "      <th>OCT</th>\n",
              "      <th>NOV</th>\n",
              "      <th>DEC</th>\n",
              "      <th>ANNUAL</th>\n",
              "      <th>JF</th>\n",
              "      <th>MAM</th>\n",
              "      <th>JJAS</th>\n",
              "      <th>OND</th>\n",
              "    </tr>\n",
              "  </thead>\n",
              "  <tbody>\n",
              "    <tr>\n",
              "      <th>0</th>\n",
              "      <td>Andaman &amp; Nicobar Islands</td>\n",
              "      <td>1901</td>\n",
              "      <td>49.2</td>\n",
              "      <td>87.1</td>\n",
              "      <td>29.2</td>\n",
              "      <td>2.3</td>\n",
              "      <td>528.8</td>\n",
              "      <td>517.5</td>\n",
              "      <td>365.1</td>\n",
              "      <td>481.1</td>\n",
              "      <td>332.6</td>\n",
              "      <td>388.5</td>\n",
              "      <td>558.2</td>\n",
              "      <td>33.6</td>\n",
              "      <td>3373.2</td>\n",
              "      <td>136.3</td>\n",
              "      <td>560.3</td>\n",
              "      <td>1696.3</td>\n",
              "      <td>980.3</td>\n",
              "    </tr>\n",
              "    <tr>\n",
              "      <th>1</th>\n",
              "      <td>Andaman &amp; Nicobar Islands</td>\n",
              "      <td>1902</td>\n",
              "      <td>0.0</td>\n",
              "      <td>159.8</td>\n",
              "      <td>12.2</td>\n",
              "      <td>0.0</td>\n",
              "      <td>446.1</td>\n",
              "      <td>537.1</td>\n",
              "      <td>228.9</td>\n",
              "      <td>753.7</td>\n",
              "      <td>666.2</td>\n",
              "      <td>197.2</td>\n",
              "      <td>359.0</td>\n",
              "      <td>160.5</td>\n",
              "      <td>3520.7</td>\n",
              "      <td>159.8</td>\n",
              "      <td>458.3</td>\n",
              "      <td>2185.9</td>\n",
              "      <td>716.7</td>\n",
              "    </tr>\n",
              "    <tr>\n",
              "      <th>2</th>\n",
              "      <td>Andaman &amp; Nicobar Islands</td>\n",
              "      <td>1903</td>\n",
              "      <td>12.7</td>\n",
              "      <td>144.0</td>\n",
              "      <td>0.0</td>\n",
              "      <td>1.0</td>\n",
              "      <td>235.1</td>\n",
              "      <td>479.9</td>\n",
              "      <td>728.4</td>\n",
              "      <td>326.7</td>\n",
              "      <td>339.0</td>\n",
              "      <td>181.2</td>\n",
              "      <td>284.4</td>\n",
              "      <td>225.0</td>\n",
              "      <td>2957.4</td>\n",
              "      <td>156.7</td>\n",
              "      <td>236.1</td>\n",
              "      <td>1874.0</td>\n",
              "      <td>690.6</td>\n",
              "    </tr>\n",
              "    <tr>\n",
              "      <th>3</th>\n",
              "      <td>Andaman &amp; Nicobar Islands</td>\n",
              "      <td>1904</td>\n",
              "      <td>9.4</td>\n",
              "      <td>14.7</td>\n",
              "      <td>0.0</td>\n",
              "      <td>202.4</td>\n",
              "      <td>304.5</td>\n",
              "      <td>495.1</td>\n",
              "      <td>502.0</td>\n",
              "      <td>160.1</td>\n",
              "      <td>820.4</td>\n",
              "      <td>222.2</td>\n",
              "      <td>308.7</td>\n",
              "      <td>40.1</td>\n",
              "      <td>3079.6</td>\n",
              "      <td>24.1</td>\n",
              "      <td>506.9</td>\n",
              "      <td>1977.6</td>\n",
              "      <td>571.0</td>\n",
              "    </tr>\n",
              "    <tr>\n",
              "      <th>4</th>\n",
              "      <td>Andaman &amp; Nicobar Islands</td>\n",
              "      <td>1905</td>\n",
              "      <td>1.3</td>\n",
              "      <td>0.0</td>\n",
              "      <td>3.3</td>\n",
              "      <td>26.9</td>\n",
              "      <td>279.5</td>\n",
              "      <td>628.7</td>\n",
              "      <td>368.7</td>\n",
              "      <td>330.5</td>\n",
              "      <td>297.0</td>\n",
              "      <td>260.7</td>\n",
              "      <td>25.4</td>\n",
              "      <td>344.7</td>\n",
              "      <td>2566.7</td>\n",
              "      <td>1.3</td>\n",
              "      <td>309.7</td>\n",
              "      <td>1624.9</td>\n",
              "      <td>630.8</td>\n",
              "    </tr>\n",
              "  </tbody>\n",
              "</table>\n",
              "</div>"
            ],
            "text/plain": [
              "                 SUBDIVISION  YEAR   JAN    FEB  ...     JF    MAM    JJAS    OND\n",
              "0  Andaman & Nicobar Islands  1901  49.2   87.1  ...  136.3  560.3  1696.3  980.3\n",
              "1  Andaman & Nicobar Islands  1902   0.0  159.8  ...  159.8  458.3  2185.9  716.7\n",
              "2  Andaman & Nicobar Islands  1903  12.7  144.0  ...  156.7  236.1  1874.0  690.6\n",
              "3  Andaman & Nicobar Islands  1904   9.4   14.7  ...   24.1  506.9  1977.6  571.0\n",
              "4  Andaman & Nicobar Islands  1905   1.3    0.0  ...    1.3  309.7  1624.9  630.8\n",
              "\n",
              "[5 rows x 19 columns]"
            ]
          },
          "metadata": {
            "tags": []
          },
          "execution_count": 20
        }
      ]
    },
    {
      "cell_type": "markdown",
      "metadata": {
        "id": "z2GpOmlRKXFV"
      },
      "source": [
        "Deal with NaN values"
      ]
    },
    {
      "cell_type": "code",
      "metadata": {
        "id": "FYFJSO3e2tjf"
      },
      "source": [
        "rainfall_df.fillna(value = 0, inplace = True)"
      ],
      "execution_count": 21,
      "outputs": []
    },
    {
      "cell_type": "markdown",
      "metadata": {
        "id": "HK-6AP0rPgw9"
      },
      "source": [
        "Normalize the continuous values"
      ]
    },
    {
      "cell_type": "code",
      "metadata": {
        "id": "OwxCDr0eGfvQ"
      },
      "source": [
        "from sklearn.preprocessing import StandardScaler\n",
        "\n",
        "rainfall_df[['JAN',\t'FEB',\t'MAR', 'APR',\t'MAY',\t'JUN',\t'JUL',\t'AUG',\t'SEP',\t'OCT',\t'NOV',\t'DEC',\t'ANNUAL',\t'JF',\t'MAM',\t'JJAS',\t'OND']] = StandardScaler().fit_transform(rainfall_df[['JAN',\t'FEB',\t'MAR', 'APR',\t'MAY',\t'JUN',\t'JUL',\t'AUG',\t'SEP',\t'OCT',\t'NOV',\t'DEC',\t'ANNUAL',\t'JF',\t'MAM',\t'JJAS',\t'OND']])"
      ],
      "execution_count": 22,
      "outputs": []
    },
    {
      "cell_type": "markdown",
      "metadata": {
        "id": "lfklpMMlKaq5"
      },
      "source": [
        "Split train and test sets"
      ]
    },
    {
      "cell_type": "code",
      "metadata": {
        "id": "mhjl0nle205h"
      },
      "source": [
        "div_data = np.asarray(rainfall_df[['JAN', 'FEB', 'MAR', 'APR', 'MAY', 'JUN', 'JUL', 'AUG', 'SEP', 'OCT', 'NOV', 'DEC']])\n",
        "\n",
        "X = None; y = None\n",
        "for i in range(div_data.shape[1]-3):\n",
        "    if X is None: \n",
        "        X = div_data[:, i:i+3] # Three consecutive months\n",
        "        y = div_data[:, i+3] # Next (fourth) month\n",
        "    else:\n",
        "        X = np.concatenate((X, div_data[:, i:i+3]), axis=0) # Three consecutive months\n",
        "        y = np.concatenate((y, div_data[:, i+3]), axis=0) # Next (fourth) month\n",
        "        \n",
        "X_train, X_test, y_train, y_test = train_test_split(X, y, test_size=0.2, random_state=5)"
      ],
      "execution_count": 23,
      "outputs": []
    },
    {
      "cell_type": "markdown",
      "metadata": {
        "id": "IjxYKh0MKfTF"
      },
      "source": [
        "**Perform Regression**"
      ]
    },
    {
      "cell_type": "code",
      "metadata": {
        "id": "4Itcpmgy3G-3"
      },
      "source": [
        "clf = RandomForestRegressor(n_estimators = 200, max_depth=10)\n",
        "clf.fit(X_train, y_train)\n",
        "y_pred_clf = clf.predict(X_test)"
      ],
      "execution_count": 24,
      "outputs": []
    },
    {
      "cell_type": "code",
      "metadata": {
        "id": "sQhDl9hgDagd"
      },
      "source": [
        "reg = LinearRegression()\n",
        "reg.fit(X_train, y_train)\n",
        "y_pred_reg = reg.predict(X_test)"
      ],
      "execution_count": 25,
      "outputs": []
    },
    {
      "cell_type": "code",
      "metadata": {
        "id": "ERQDgX1xDcAe"
      },
      "source": [
        "dec = DecisionTreeRegressor()\n",
        "dec.fit(X_train, y_train)\n",
        "y_pred_dec = dec.predict(X_test)"
      ],
      "execution_count": 26,
      "outputs": []
    },
    {
      "cell_type": "code",
      "metadata": {
        "colab": {
          "base_uri": "https://localhost:8080/"
        },
        "id": "dKGytygNDGNz",
        "outputId": "c0408d65-4cbd-4160-8026-650757c41141"
      },
      "source": [
        "xgb = XGBRegressor()\n",
        "xgb.fit(X_train, y_train)\n",
        "y_pred_xgb = xgb.predict(X_test)"
      ],
      "execution_count": 27,
      "outputs": [
        {
          "output_type": "stream",
          "text": [
            "[10:37:43] WARNING: /workspace/src/objective/regression_obj.cu:152: reg:linear is now deprecated in favor of reg:squarederror.\n"
          ],
          "name": "stdout"
        }
      ]
    },
    {
      "cell_type": "markdown",
      "metadata": {
        "id": "BMEcew8E5WkM"
      },
      "source": [
        "Evaluate"
      ]
    },
    {
      "cell_type": "code",
      "metadata": {
        "colab": {
          "base_uri": "https://localhost:8080/"
        },
        "id": "LBPCoU2vyCai",
        "outputId": "dd075efd-13c9-44a6-cfb0-d2bda540f272"
      },
      "source": [
        "print(\"MEAN ABSOLUTE ERROR\")\n",
        "print(\"Linear: \\t\",mean_absolute_error(y_test, y_pred_reg))\n",
        "print(\"Decision Tree: \\t\",mean_absolute_error(y_test, y_pred_dec))\n",
        "print(\"Random Forest: \\t\",mean_absolute_error(y_test, y_pred_clf))\n",
        "print(\"XGBoost: \\t\",mean_absolute_error(y_test, y_pred_xgb))"
      ],
      "execution_count": 28,
      "outputs": [
        {
          "output_type": "stream",
          "text": [
            "MEAN ABSOLUTE ERROR\n",
            "Linear: \t 0.5341147443675478\n",
            "Decision Tree: \t 0.7338735145768813\n",
            "Random Forest: \t 0.5252136029181004\n",
            "XGBoost: \t 0.527699950263565\n"
          ],
          "name": "stdout"
        }
      ]
    },
    {
      "cell_type": "markdown",
      "metadata": {
        "id": "WpHWxBhIZn3O"
      },
      "source": [
        "# **USA EARTHQUAKES**\n",
        "\n",
        "**TARGET:** PREDICT MAGNITUDE"
      ]
    },
    {
      "cell_type": "code",
      "metadata": {
        "id": "rcrBliN3jloW"
      },
      "source": [
        "earthquake_df = pd.read_csv('Datasets/earthquake-all-month.csv')"
      ],
      "execution_count": 29,
      "outputs": []
    },
    {
      "cell_type": "code",
      "metadata": {
        "colab": {
          "base_uri": "https://localhost:8080/"
        },
        "id": "Sb-N2oiJtc-s",
        "outputId": "f579babc-535c-4b99-aa74-e9d3f114d5a7"
      },
      "source": [
        "earthquake_df['type'].value_counts().index\n"
      ],
      "execution_count": 30,
      "outputs": [
        {
          "output_type": "execute_result",
          "data": {
            "text/plain": [
              "Index(['earthquake', 'quarry blast', 'explosion', 'ice quake', 'other event'], dtype='object')"
            ]
          },
          "metadata": {
            "tags": []
          },
          "execution_count": 30
        }
      ]
    },
    {
      "cell_type": "code",
      "metadata": {
        "id": "LB38zLj01AH-"
      },
      "source": [
        "import re\n",
        "earthquake_df['short place']=[re.findall(r'\\w+',i)[-1] for i in earthquake_df['place']]\n",
        "earthquake_df.dropna(subset=['mag'],inplace=True)"
      ],
      "execution_count": 31,
      "outputs": []
    },
    {
      "cell_type": "markdown",
      "metadata": {
        "id": "T7OhyfqDmx0q"
      },
      "source": [
        "Feature vector"
      ]
    },
    {
      "cell_type": "code",
      "metadata": {
        "id": "PiaaUHDjmtSF"
      },
      "source": [
        "features=[i for i in earthquake_df.columns if earthquake_df[i].isna().sum()==0]\n",
        "\n",
        "for i in ['mag','place','time','id','updated','net','magType']: \n",
        "    features.remove(i)\n",
        "    \n",
        "X=earthquake_df[features]\n",
        "y=earthquake_df[['mag']]"
      ],
      "execution_count": 32,
      "outputs": []
    },
    {
      "cell_type": "markdown",
      "metadata": {
        "id": "iczGHfVcPNmT"
      },
      "source": [
        "Normalise the depth feature"
      ]
    },
    {
      "cell_type": "code",
      "metadata": {
        "colab": {
          "base_uri": "https://localhost:8080/"
        },
        "id": "Ha_-Ga_sKgRv",
        "outputId": "50ee7d9e-107b-4fe9-9c32-621bc9ee0f9f"
      },
      "source": [
        "X[['depth']] = StandardScaler().fit_transform(X[['depth']])"
      ],
      "execution_count": 33,
      "outputs": [
        {
          "output_type": "stream",
          "text": [
            "/usr/local/lib/python3.7/dist-packages/ipykernel_launcher.py:1: SettingWithCopyWarning: \n",
            "A value is trying to be set on a copy of a slice from a DataFrame.\n",
            "Try using .loc[row_indexer,col_indexer] = value instead\n",
            "\n",
            "See the caveats in the documentation: https://pandas.pydata.org/pandas-docs/stable/user_guide/indexing.html#returning-a-view-versus-a-copy\n",
            "  \"\"\"Entry point for launching an IPython kernel.\n",
            "/usr/local/lib/python3.7/dist-packages/pandas/core/indexing.py:1734: SettingWithCopyWarning: \n",
            "A value is trying to be set on a copy of a slice from a DataFrame.\n",
            "Try using .loc[row_indexer,col_indexer] = value instead\n",
            "\n",
            "See the caveats in the documentation: https://pandas.pydata.org/pandas-docs/stable/user_guide/indexing.html#returning-a-view-versus-a-copy\n",
            "  isetter(loc, value[:, i].tolist())\n"
          ],
          "name": "stderr"
        }
      ]
    },
    {
      "cell_type": "markdown",
      "metadata": {
        "id": "d15PCqSmoGDZ"
      },
      "source": [
        "Segregate categorical data"
      ]
    },
    {
      "cell_type": "code",
      "metadata": {
        "id": "M99hSzraoCoK"
      },
      "source": [
        "categorical = []\n",
        "for i in features:\n",
        "    if earthquake_df[i].dtype==\"object\":\n",
        "        categorical.append(i)"
      ],
      "execution_count": 34,
      "outputs": []
    },
    {
      "cell_type": "markdown",
      "metadata": {
        "id": "SEHfF_4boR8O"
      },
      "source": [
        "Encode the data"
      ]
    },
    {
      "cell_type": "code",
      "metadata": {
        "colab": {
          "base_uri": "https://localhost:8080/"
        },
        "id": "299HyBl2oTvl",
        "outputId": "4d3bd41e-a651-4b54-fb77-2445843a4c25"
      },
      "source": [
        "from sklearn import preprocessing\n",
        "label_maps = {}\n",
        "for i in categorical:\n",
        "    le = preprocessing.LabelEncoder().fit(X[i])\n",
        "    X[i]=le.transform(X[i])\n",
        "    d = dict(zip(le.classes_, le.transform(le.classes_)))\n",
        "    label_maps[i] = d\n",
        "print(label_maps)"
      ],
      "execution_count": 35,
      "outputs": [
        {
          "output_type": "stream",
          "text": [
            "{'type': {'earthquake': 0, 'explosion': 1, 'ice quake': 2, 'other event': 3, 'quarry blast': 4}, 'status': {'automatic': 0, 'reviewed': 1}, 'locationSource': {'ak': 0, 'av': 1, 'ci': 2, 'hv': 3, 'mb': 4, 'nc': 5, 'nm': 6, 'nn': 7, 'ok': 8, 'pr': 9, 'se': 10, 'tx': 11, 'us': 12, 'uu': 13, 'uw': 14}, 'magSource': {'ak': 0, 'av': 1, 'ci': 2, 'guc': 3, 'hv': 4, 'mb': 5, 'nc': 6, 'nm': 7, 'nn': 8, 'ok': 9, 'pr': 10, 'se': 11, 'tx': 12, 'us': 13, 'uu': 14, 'uw': 15}, 'short place': {'Afghanistan': 0, 'Africa': 1, 'Alabama': 2, 'Alaska': 3, 'Albania': 4, 'Algeria': 5, 'America': 6, 'Argentina': 7, 'Arizona': 8, 'Arkansas': 9, 'Austria': 10, 'Barbados': 11, 'Bhutan': 12, 'Bolivia': 13, 'Brazil': 14, 'CA': 15, 'Caledonia': 16, 'California': 17, 'Canada': 18, 'Chile': 19, 'China': 20, 'Colombia': 21, 'Colorado': 22, 'Congo': 23, 'Dakota': 24, 'Dominica': 25, 'Ecuador': 26, 'Fiji': 27, 'Georgia': 28, 'Greece': 29, 'Guadeloupe': 30, 'Guam': 31, 'Guatemala': 32, 'Guinea': 33, 'Guyana': 34, 'Haiti': 35, 'Hawaii': 36, 'Helena': 37, 'Herzegovina': 38, 'Honduras': 39, 'Iceland': 40, 'Idaho': 41, 'Illinois': 42, 'India': 43, 'Indonesia': 44, 'Iran': 45, 'Iraq': 46, 'Island': 47, 'Islands': 48, 'Italy': 49, 'Japan': 50, 'Junction': 51, 'Kansas': 52, 'Kentucky': 53, 'Leste': 54, 'Libya': 55, 'Louisiana': 56, 'MX': 57, 'Maine': 58, 'Mayen': 59, 'Mexico': 60, 'Micronesia': 61, 'Missouri': 62, 'Mongolia': 63, 'Montana': 64, 'Myanmar': 65, 'NV': 66, 'Namibia': 67, 'Nevada': 68, 'Nicaragua': 69, 'Ocean': 70, 'Oklahoma': 71, 'Oregon': 72, 'Pakistan': 73, 'Panama': 74, 'Peninsula': 75, 'Peru': 76, 'Philippines': 77, 'Portugal': 78, 'Republic': 79, 'Rica': 80, 'Rico': 81, 'Ridge': 82, 'Rise': 83, 'Romania': 84, 'Russia': 85, 'Salvador': 86, 'Sea': 87, 'Svalbard': 88, 'Taiwan': 89, 'Tajikistan': 90, 'Tennessee': 91, 'Texas': 92, 'Tonga': 93, 'Turkey': 94, 'Turkmenistan': 95, 'Uganda': 96, 'Utah': 97, 'Vanuatu': 98, 'Venezuela': 99, 'Vietnam': 100, 'Washington': 101, 'Wyoming': 102, 'Xizang': 103, 'York': 104, 'Zealand': 105, 'region': 106}}\n"
          ],
          "name": "stdout"
        },
        {
          "output_type": "stream",
          "text": [
            "/usr/local/lib/python3.7/dist-packages/ipykernel_launcher.py:5: SettingWithCopyWarning: \n",
            "A value is trying to be set on a copy of a slice from a DataFrame.\n",
            "Try using .loc[row_indexer,col_indexer] = value instead\n",
            "\n",
            "See the caveats in the documentation: https://pandas.pydata.org/pandas-docs/stable/user_guide/indexing.html#returning-a-view-versus-a-copy\n",
            "  \"\"\"\n"
          ],
          "name": "stderr"
        }
      ]
    },
    {
      "cell_type": "markdown",
      "metadata": {
        "id": "cq978z08oaRw"
      },
      "source": [
        "Train and test split"
      ]
    },
    {
      "cell_type": "code",
      "metadata": {
        "id": "zrYo3-J9ocZp"
      },
      "source": [
        "X_train, X_test, y_train, y_test = train_test_split(X,y,test_size=0.10)"
      ],
      "execution_count": 36,
      "outputs": []
    },
    {
      "cell_type": "code",
      "metadata": {
        "colab": {
          "base_uri": "https://localhost:8080/",
          "height": 202
        },
        "id": "k1fEjrt1iZOx",
        "outputId": "97e541f8-860f-4cd8-d678-45f271ccc609"
      },
      "source": [
        "X_train.head()"
      ],
      "execution_count": 37,
      "outputs": [
        {
          "output_type": "execute_result",
          "data": {
            "text/html": [
              "<div>\n",
              "<style scoped>\n",
              "    .dataframe tbody tr th:only-of-type {\n",
              "        vertical-align: middle;\n",
              "    }\n",
              "\n",
              "    .dataframe tbody tr th {\n",
              "        vertical-align: top;\n",
              "    }\n",
              "\n",
              "    .dataframe thead th {\n",
              "        text-align: right;\n",
              "    }\n",
              "</style>\n",
              "<table border=\"1\" class=\"dataframe\">\n",
              "  <thead>\n",
              "    <tr style=\"text-align: right;\">\n",
              "      <th></th>\n",
              "      <th>latitude</th>\n",
              "      <th>longitude</th>\n",
              "      <th>depth</th>\n",
              "      <th>rms</th>\n",
              "      <th>type</th>\n",
              "      <th>depthError</th>\n",
              "      <th>status</th>\n",
              "      <th>locationSource</th>\n",
              "      <th>magSource</th>\n",
              "      <th>short place</th>\n",
              "    </tr>\n",
              "  </thead>\n",
              "  <tbody>\n",
              "    <tr>\n",
              "      <th>1934</th>\n",
              "      <td>19.430833</td>\n",
              "      <td>-155.607667</td>\n",
              "      <td>-0.388164</td>\n",
              "      <td>0.10</td>\n",
              "      <td>0</td>\n",
              "      <td>0.890000</td>\n",
              "      <td>1</td>\n",
              "      <td>3</td>\n",
              "      <td>4</td>\n",
              "      <td>36</td>\n",
              "    </tr>\n",
              "    <tr>\n",
              "      <th>7884</th>\n",
              "      <td>38.742832</td>\n",
              "      <td>-122.698502</td>\n",
              "      <td>-0.409578</td>\n",
              "      <td>0.02</td>\n",
              "      <td>0</td>\n",
              "      <td>0.990000</td>\n",
              "      <td>0</td>\n",
              "      <td>5</td>\n",
              "      <td>6</td>\n",
              "      <td>15</td>\n",
              "    </tr>\n",
              "    <tr>\n",
              "      <th>6571</th>\n",
              "      <td>33.486333</td>\n",
              "      <td>-116.793167</td>\n",
              "      <td>-0.307403</td>\n",
              "      <td>0.20</td>\n",
              "      <td>0</td>\n",
              "      <td>0.820000</td>\n",
              "      <td>1</td>\n",
              "      <td>2</td>\n",
              "      <td>2</td>\n",
              "      <td>15</td>\n",
              "    </tr>\n",
              "    <tr>\n",
              "      <th>6060</th>\n",
              "      <td>44.659000</td>\n",
              "      <td>-112.001500</td>\n",
              "      <td>-0.226641</td>\n",
              "      <td>0.22</td>\n",
              "      <td>0</td>\n",
              "      <td>1.680000</td>\n",
              "      <td>1</td>\n",
              "      <td>4</td>\n",
              "      <td>5</td>\n",
              "      <td>41</td>\n",
              "    </tr>\n",
              "    <tr>\n",
              "      <th>5072</th>\n",
              "      <td>29.182434</td>\n",
              "      <td>-97.594784</td>\n",
              "      <td>-0.362265</td>\n",
              "      <td>0.30</td>\n",
              "      <td>0</td>\n",
              "      <td>1.454166</td>\n",
              "      <td>1</td>\n",
              "      <td>11</td>\n",
              "      <td>12</td>\n",
              "      <td>92</td>\n",
              "    </tr>\n",
              "  </tbody>\n",
              "</table>\n",
              "</div>"
            ],
            "text/plain": [
              "       latitude   longitude     depth  ...  locationSource  magSource  short place\n",
              "1934  19.430833 -155.607667 -0.388164  ...               3          4           36\n",
              "7884  38.742832 -122.698502 -0.409578  ...               5          6           15\n",
              "6571  33.486333 -116.793167 -0.307403  ...               2          2           15\n",
              "6060  44.659000 -112.001500 -0.226641  ...               4          5           41\n",
              "5072  29.182434  -97.594784 -0.362265  ...              11         12           92\n",
              "\n",
              "[5 rows x 10 columns]"
            ]
          },
          "metadata": {
            "tags": []
          },
          "execution_count": 37
        }
      ]
    },
    {
      "cell_type": "markdown",
      "metadata": {
        "id": "a1TwkJqPogm9"
      },
      "source": [
        "**Perform regression**"
      ]
    },
    {
      "cell_type": "code",
      "metadata": {
        "colab": {
          "base_uri": "https://localhost:8080/"
        },
        "id": "p2GWZNOzoikL",
        "outputId": "3a23ab9c-47fd-4e85-f1a6-3005c39f8aaf"
      },
      "source": [
        "clf = RandomForestRegressor(n_estimators=100, criterion='mse', max_depth=None)\n",
        "clf.fit(X_train, y_train)\n",
        "y_pred_clf = clf.predict(X_test)"
      ],
      "execution_count": 38,
      "outputs": [
        {
          "output_type": "stream",
          "text": [
            "/usr/local/lib/python3.7/dist-packages/ipykernel_launcher.py:2: DataConversionWarning: A column-vector y was passed when a 1d array was expected. Please change the shape of y to (n_samples,), for example using ravel().\n",
            "  \n"
          ],
          "name": "stderr"
        }
      ]
    },
    {
      "cell_type": "code",
      "metadata": {
        "id": "R5DzDKcjCvps"
      },
      "source": [
        "reg = LinearRegression()\n",
        "reg.fit(X_train, y_train)\n",
        "y_pred_reg = reg.predict(X_test)"
      ],
      "execution_count": 39,
      "outputs": []
    },
    {
      "cell_type": "code",
      "metadata": {
        "id": "ir3U9I1nC8xg"
      },
      "source": [
        "dec = DecisionTreeRegressor()\n",
        "dec.fit(X_train, y_train)\n",
        "y_pred_dec = dec.predict(X_test)"
      ],
      "execution_count": 40,
      "outputs": []
    },
    {
      "cell_type": "code",
      "metadata": {
        "colab": {
          "base_uri": "https://localhost:8080/"
        },
        "id": "DUkUKTf3C9zc",
        "outputId": "47378c2e-40b0-4102-e006-ce8bd14aa3dd"
      },
      "source": [
        "xgb = XGBRegressor()\n",
        "xgb.fit(X_train, y_train)\n",
        "y_pred_xgb = xgb.predict(X_test)"
      ],
      "execution_count": 41,
      "outputs": [
        {
          "output_type": "stream",
          "text": [
            "[10:37:50] WARNING: /workspace/src/objective/regression_obj.cu:152: reg:linear is now deprecated in favor of reg:squarederror.\n"
          ],
          "name": "stdout"
        }
      ]
    },
    {
      "cell_type": "markdown",
      "metadata": {
        "id": "w0tBsPkQopI2"
      },
      "source": [
        "Evaluate"
      ]
    },
    {
      "cell_type": "code",
      "metadata": {
        "colab": {
          "base_uri": "https://localhost:8080/"
        },
        "id": "aKuSmjVMpdYO",
        "outputId": "2ca8e808-ee0a-4336-f0ec-20523ac05461"
      },
      "source": [
        "print(\"MEAN ABSOLUTE ERROR\")\n",
        "print(\"Linear: \\t\",mean_absolute_error(y_test, y_pred_reg))\n",
        "print(\"Decision Tree: \\t\",mean_absolute_error(y_test, y_pred_dec))\n",
        "print(\"Random Forest: \\t\",mean_absolute_error(y_test, y_pred_clf))\n",
        "print(\"XGBoost: \\t\",mean_absolute_error(y_test, y_pred_xgb))"
      ],
      "execution_count": 42,
      "outputs": [
        {
          "output_type": "stream",
          "text": [
            "MEAN ABSOLUTE ERROR\n",
            "Linear: \t 0.5057420205050159\n",
            "Decision Tree: \t 0.40604938288224124\n",
            "Random Forest: \t 0.3003447294107278\n",
            "XGBoost: \t 0.34667492567787556\n"
          ],
          "name": "stdout"
        }
      ]
    }
  ]
}