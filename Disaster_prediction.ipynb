{
  "nbformat": 4,
  "nbformat_minor": 0,
  "metadata": {
    "colab": {
      "name": "Disaster-prediction.ipynb",
      "provenance": [],
      "authorship_tag": "ABX9TyOn/q0zyRVr4RId/YpWqE/x",
      "include_colab_link": true
    },
    "kernelspec": {
      "name": "python3",
      "display_name": "Python 3"
    },
    "language_info": {
      "name": "python"
    }
  },
  "cells": [
    {
      "cell_type": "markdown",
      "metadata": {
        "id": "view-in-github",
        "colab_type": "text"
      },
      "source": [
        "<a href=\"https://colab.research.google.com/github/tanyarw/disaster-prediction-backend/blob/main/Disaster_prediction.ipynb\" target=\"_parent\"><img src=\"https://colab.research.google.com/assets/colab-badge.svg\" alt=\"Open In Colab\"/></a>"
      ]
    },
    {
      "cell_type": "markdown",
      "metadata": {
        "id": "gKLQ_L8t6XAn"
      },
      "source": [
        "Mount content"
      ]
    },
    {
      "cell_type": "code",
      "metadata": {
        "id": "3N2LyNUxdTVz",
        "colab": {
          "base_uri": "https://localhost:8080/"
        },
        "outputId": "ba773782-f4c2-4b90-e491-388fdd4e349e"
      },
      "source": [
        "from google.colab import drive\n",
        "drive.mount('/content/drive')"
      ],
      "execution_count": 1,
      "outputs": [
        {
          "output_type": "stream",
          "text": [
            "Drive already mounted at /content/drive; to attempt to forcibly remount, call drive.mount(\"/content/drive\", force_remount=True).\n"
          ],
          "name": "stdout"
        }
      ]
    },
    {
      "cell_type": "code",
      "metadata": {
        "id": "TI0aVMK6dVZ8"
      },
      "source": [
        "import os\n",
        "os.chdir(\"drive/My Drive/DV: Disaster Prediction\")"
      ],
      "execution_count": 2,
      "outputs": []
    },
    {
      "cell_type": "markdown",
      "metadata": {
        "id": "rRgS_pJp_vNK"
      },
      "source": [
        "Import Libraries"
      ]
    },
    {
      "cell_type": "code",
      "metadata": {
        "id": "veL0L259_KsT"
      },
      "source": [
        "import pandas as pd\n",
        "import numpy as np\n",
        "from sklearn.preprocessing import OneHotEncoder\n",
        "from sklearn import preprocessing\n",
        "from sklearn import utils\n",
        "from sklearn.model_selection import train_test_split\n",
        "from sklearn import metrics\n",
        "from sklearn.ensemble import RandomForestRegressor\n",
        "from sklearn.metrics import mean_absolute_error"
      ],
      "execution_count": 3,
      "outputs": []
    },
    {
      "cell_type": "markdown",
      "metadata": {
        "id": "yKT5m3DGi0xU"
      },
      "source": [
        "# **GLOBAL LANDSLIDES**"
      ]
    },
    {
      "cell_type": "markdown",
      "metadata": {
        "id": "LcnKL76A6au4"
      },
      "source": [
        "Read Dataset"
      ]
    },
    {
      "cell_type": "code",
      "metadata": {
        "id": "iHqRbo0cAF0V",
        "colab": {
          "base_uri": "https://localhost:8080/",
          "height": 482
        },
        "outputId": "fbe07ec4-ac8d-4844-9bd5-8e86a56ea445"
      },
      "source": [
        "landslide_df = pd.read_csv('Datasets/NASA_Global_Landslide_Catalog.csv')\n",
        "landslide_df.head()"
      ],
      "execution_count": 4,
      "outputs": [
        {
          "output_type": "execute_result",
          "data": {
            "text/html": [
              "<div>\n",
              "<style scoped>\n",
              "    .dataframe tbody tr th:only-of-type {\n",
              "        vertical-align: middle;\n",
              "    }\n",
              "\n",
              "    .dataframe tbody tr th {\n",
              "        vertical-align: top;\n",
              "    }\n",
              "\n",
              "    .dataframe thead th {\n",
              "        text-align: right;\n",
              "    }\n",
              "</style>\n",
              "<table border=\"1\" class=\"dataframe\">\n",
              "  <thead>\n",
              "    <tr style=\"text-align: right;\">\n",
              "      <th></th>\n",
              "      <th>source_name</th>\n",
              "      <th>source_link</th>\n",
              "      <th>event_id</th>\n",
              "      <th>event_date</th>\n",
              "      <th>event_time</th>\n",
              "      <th>event_title</th>\n",
              "      <th>event_description</th>\n",
              "      <th>location_description</th>\n",
              "      <th>location_accuracy</th>\n",
              "      <th>landslide_category</th>\n",
              "      <th>landslide_trigger</th>\n",
              "      <th>landslide_size</th>\n",
              "      <th>landslide_setting</th>\n",
              "      <th>fatality_count</th>\n",
              "      <th>injury_count</th>\n",
              "      <th>storm_name</th>\n",
              "      <th>photo_link</th>\n",
              "      <th>notes</th>\n",
              "      <th>event_import_source</th>\n",
              "      <th>event_import_id</th>\n",
              "      <th>country_name</th>\n",
              "      <th>country_code</th>\n",
              "      <th>admin_division_name</th>\n",
              "      <th>admin_division_population</th>\n",
              "      <th>gazeteer_closest_point</th>\n",
              "      <th>gazeteer_distance</th>\n",
              "      <th>submitted_date</th>\n",
              "      <th>created_date</th>\n",
              "      <th>last_edited_date</th>\n",
              "      <th>longitude</th>\n",
              "      <th>latitude</th>\n",
              "    </tr>\n",
              "  </thead>\n",
              "  <tbody>\n",
              "    <tr>\n",
              "      <th>0</th>\n",
              "      <td>AGU</td>\n",
              "      <td>https://blogs.agu.org/landslideblog/2008/10/14...</td>\n",
              "      <td>684</td>\n",
              "      <td>08/01/2008 12:00:00 AM</td>\n",
              "      <td>NaN</td>\n",
              "      <td>Sigou Village, Loufan County, Shanxi Province</td>\n",
              "      <td>occurred early in morning, 11 villagers buried...</td>\n",
              "      <td>Sigou Village, Loufan County, Shanxi Province</td>\n",
              "      <td>unknown</td>\n",
              "      <td>landslide</td>\n",
              "      <td>rain</td>\n",
              "      <td>large</td>\n",
              "      <td>mine</td>\n",
              "      <td>11.0</td>\n",
              "      <td>NaN</td>\n",
              "      <td>NaN</td>\n",
              "      <td>NaN</td>\n",
              "      <td>NaN</td>\n",
              "      <td>glc</td>\n",
              "      <td>684.0</td>\n",
              "      <td>China</td>\n",
              "      <td>CN</td>\n",
              "      <td>Shaanxi</td>\n",
              "      <td>0.0</td>\n",
              "      <td>Jingyang</td>\n",
              "      <td>41.02145</td>\n",
              "      <td>04/01/2014 12:00:00 AM</td>\n",
              "      <td>11/20/2017 03:17:00 PM</td>\n",
              "      <td>02/15/2018 03:51:00 PM</td>\n",
              "      <td>107.4500</td>\n",
              "      <td>32.5625</td>\n",
              "    </tr>\n",
              "    <tr>\n",
              "      <th>1</th>\n",
              "      <td>Oregonian</td>\n",
              "      <td>http://www.oregonlive.com/news/index.ssf/2009/...</td>\n",
              "      <td>956</td>\n",
              "      <td>01/02/2009 02:00:00 AM</td>\n",
              "      <td>NaN</td>\n",
              "      <td>Lake Oswego, Oregon</td>\n",
              "      <td>Hours of heavy rain are to blame for an overni...</td>\n",
              "      <td>Lake Oswego, Oregon</td>\n",
              "      <td>5km</td>\n",
              "      <td>mudslide</td>\n",
              "      <td>downpour</td>\n",
              "      <td>small</td>\n",
              "      <td>unknown</td>\n",
              "      <td>0.0</td>\n",
              "      <td>NaN</td>\n",
              "      <td>NaN</td>\n",
              "      <td>NaN</td>\n",
              "      <td>NaN</td>\n",
              "      <td>glc</td>\n",
              "      <td>956.0</td>\n",
              "      <td>United States</td>\n",
              "      <td>US</td>\n",
              "      <td>Oregon</td>\n",
              "      <td>36619.0</td>\n",
              "      <td>Lake Oswego</td>\n",
              "      <td>0.60342</td>\n",
              "      <td>04/01/2014 12:00:00 AM</td>\n",
              "      <td>11/20/2017 03:17:00 PM</td>\n",
              "      <td>02/15/2018 03:51:00 PM</td>\n",
              "      <td>-122.6630</td>\n",
              "      <td>45.4200</td>\n",
              "    </tr>\n",
              "    <tr>\n",
              "      <th>2</th>\n",
              "      <td>CBS News</td>\n",
              "      <td>https://www.cbsnews.com/news/dozens-missing-af...</td>\n",
              "      <td>973</td>\n",
              "      <td>01/19/2007 12:00:00 AM</td>\n",
              "      <td>NaN</td>\n",
              "      <td>San Ramon district, 195 miles northeast of the...</td>\n",
              "      <td>(CBS/AP) At least 10 people died and as many a...</td>\n",
              "      <td>San Ramon district, 195 miles northeast of the...</td>\n",
              "      <td>10km</td>\n",
              "      <td>landslide</td>\n",
              "      <td>downpour</td>\n",
              "      <td>large</td>\n",
              "      <td>unknown</td>\n",
              "      <td>10.0</td>\n",
              "      <td>NaN</td>\n",
              "      <td>NaN</td>\n",
              "      <td>NaN</td>\n",
              "      <td>NaN</td>\n",
              "      <td>glc</td>\n",
              "      <td>973.0</td>\n",
              "      <td>Peru</td>\n",
              "      <td>PE</td>\n",
              "      <td>Junín</td>\n",
              "      <td>14708.0</td>\n",
              "      <td>San Ramón</td>\n",
              "      <td>0.85548</td>\n",
              "      <td>04/01/2014 12:00:00 AM</td>\n",
              "      <td>11/20/2017 03:17:00 PM</td>\n",
              "      <td>02/15/2018 03:51:00 PM</td>\n",
              "      <td>-75.3587</td>\n",
              "      <td>-11.1295</td>\n",
              "    </tr>\n",
              "    <tr>\n",
              "      <th>3</th>\n",
              "      <td>Reuters</td>\n",
              "      <td>https://in.reuters.com/article/idINIndia-41450...</td>\n",
              "      <td>1067</td>\n",
              "      <td>07/31/2009 12:00:00 AM</td>\n",
              "      <td>NaN</td>\n",
              "      <td>Dailekh district</td>\n",
              "      <td>One person was killed in Dailekh district, pol...</td>\n",
              "      <td>Dailekh district</td>\n",
              "      <td>unknown</td>\n",
              "      <td>landslide</td>\n",
              "      <td>monsoon</td>\n",
              "      <td>medium</td>\n",
              "      <td>unknown</td>\n",
              "      <td>1.0</td>\n",
              "      <td>NaN</td>\n",
              "      <td>NaN</td>\n",
              "      <td>NaN</td>\n",
              "      <td>NaN</td>\n",
              "      <td>glc</td>\n",
              "      <td>1067.0</td>\n",
              "      <td>Nepal</td>\n",
              "      <td>NP</td>\n",
              "      <td>Mid Western</td>\n",
              "      <td>20908.0</td>\n",
              "      <td>Dailekh</td>\n",
              "      <td>0.75395</td>\n",
              "      <td>04/01/2014 12:00:00 AM</td>\n",
              "      <td>11/20/2017 03:17:00 PM</td>\n",
              "      <td>02/15/2018 03:51:00 PM</td>\n",
              "      <td>81.7080</td>\n",
              "      <td>28.8378</td>\n",
              "    </tr>\n",
              "    <tr>\n",
              "      <th>4</th>\n",
              "      <td>The Freeman</td>\n",
              "      <td>http://www.philstar.com/cebu-news/621414/lands...</td>\n",
              "      <td>2603</td>\n",
              "      <td>10/16/2010 12:00:00 PM</td>\n",
              "      <td>NaN</td>\n",
              "      <td>sitio Bakilid in barangay Lahug</td>\n",
              "      <td>Another landslide in sitio Bakilid in barangay...</td>\n",
              "      <td>sitio Bakilid in barangay Lahug</td>\n",
              "      <td>5km</td>\n",
              "      <td>landslide</td>\n",
              "      <td>tropical_cyclone</td>\n",
              "      <td>medium</td>\n",
              "      <td>unknown</td>\n",
              "      <td>0.0</td>\n",
              "      <td>NaN</td>\n",
              "      <td>Supertyphoon Juan (Megi)</td>\n",
              "      <td>NaN</td>\n",
              "      <td>NaN</td>\n",
              "      <td>glc</td>\n",
              "      <td>2603.0</td>\n",
              "      <td>Philippines</td>\n",
              "      <td>PH</td>\n",
              "      <td>Central Visayas</td>\n",
              "      <td>798634.0</td>\n",
              "      <td>Cebu City</td>\n",
              "      <td>2.02204</td>\n",
              "      <td>04/01/2014 12:00:00 AM</td>\n",
              "      <td>11/20/2017 03:17:00 PM</td>\n",
              "      <td>02/15/2018 03:51:00 PM</td>\n",
              "      <td>123.8978</td>\n",
              "      <td>10.3336</td>\n",
              "    </tr>\n",
              "  </tbody>\n",
              "</table>\n",
              "</div>"
            ],
            "text/plain": [
              "   source_name  ... latitude\n",
              "0          AGU  ...  32.5625\n",
              "1    Oregonian  ...  45.4200\n",
              "2     CBS News  ... -11.1295\n",
              "3      Reuters  ...  28.8378\n",
              "4  The Freeman  ...  10.3336\n",
              "\n",
              "[5 rows x 31 columns]"
            ]
          },
          "metadata": {
            "tags": []
          },
          "execution_count": 4
        }
      ]
    },
    {
      "cell_type": "markdown",
      "metadata": {
        "id": "R6OC0bGQ_n04"
      },
      "source": [
        "Drop unwanted features"
      ]
    },
    {
      "cell_type": "code",
      "metadata": {
        "id": "82_1r43YAw_C"
      },
      "source": [
        "landslide_df = landslide_df.drop(['source_name', 'source_link','event_id', 'event_date','event_time',\n",
        "                        'event_title', 'event_description', 'location_description','storm_name','photo_link',\n",
        "                        'notes', 'event_import_source','event_import_id','country_code','submitted_date', \n",
        "                        'created_date', 'last_edited_date','admin_division_name','gazeteer_closest_point', 'gazeteer_distance','injury_count'], axis = 1)"
      ],
      "execution_count": 5,
      "outputs": []
    },
    {
      "cell_type": "markdown",
      "metadata": {
        "id": "yhlDVNSGK43y"
      },
      "source": [
        "Drop unknown categories"
      ]
    },
    {
      "cell_type": "code",
      "metadata": {
        "id": "KKzCj1-__rab"
      },
      "source": [
        "to_remove = landslide_df[ (landslide_df['landslide_category'] == 'unknown') ].index\n",
        "landslide_df = landslide_df.drop(to_remove)\n",
        "to_remove = landslide_df[(landslide_df['location_accuracy'] == 'unknown')].index\n",
        "landslide_df = landslide_df.drop(to_remove)"
      ],
      "execution_count": 6,
      "outputs": []
    },
    {
      "cell_type": "markdown",
      "metadata": {
        "id": "0XYX8lxpK-r1"
      },
      "source": [
        "Replace or drop unknown/NaN values"
      ]
    },
    {
      "cell_type": "code",
      "metadata": {
        "id": "UWQrV63TnRAI"
      },
      "source": [
        "landslide_df = landslide_df.dropna(subset=['location_accuracy', 'landslide_category','landslide_trigger','landslide_size','landslide_setting','country_name'])"
      ],
      "execution_count": 7,
      "outputs": []
    },
    {
      "cell_type": "markdown",
      "metadata": {
        "id": "jlu46dag6oYC"
      },
      "source": [
        "Determine feature and target vectors"
      ]
    },
    {
      "cell_type": "code",
      "metadata": {
        "id": "SO0fChvNFzDm"
      },
      "source": [
        "X_features = list(landslide_df.columns)\n",
        "X_features.remove('fatality_count')\n",
        "X = landslide_df[X_features]\n",
        "y = landslide_df['fatality_count']\n",
        "y = y.fillna(y.median()) # deal with na"
      ],
      "execution_count": 8,
      "outputs": []
    },
    {
      "cell_type": "code",
      "metadata": {
        "colab": {
          "base_uri": "https://localhost:8080/",
          "height": 222
        },
        "id": "Ee1HiU8iBxdZ",
        "outputId": "7fdb101b-1fe6-4024-9b8b-e7741d8f3336"
      },
      "source": [
        "X.head()"
      ],
      "execution_count": 9,
      "outputs": [
        {
          "output_type": "execute_result",
          "data": {
            "text/html": [
              "<div>\n",
              "<style scoped>\n",
              "    .dataframe tbody tr th:only-of-type {\n",
              "        vertical-align: middle;\n",
              "    }\n",
              "\n",
              "    .dataframe tbody tr th {\n",
              "        vertical-align: top;\n",
              "    }\n",
              "\n",
              "    .dataframe thead th {\n",
              "        text-align: right;\n",
              "    }\n",
              "</style>\n",
              "<table border=\"1\" class=\"dataframe\">\n",
              "  <thead>\n",
              "    <tr style=\"text-align: right;\">\n",
              "      <th></th>\n",
              "      <th>location_accuracy</th>\n",
              "      <th>landslide_category</th>\n",
              "      <th>landslide_trigger</th>\n",
              "      <th>landslide_size</th>\n",
              "      <th>landslide_setting</th>\n",
              "      <th>country_name</th>\n",
              "      <th>admin_division_population</th>\n",
              "      <th>longitude</th>\n",
              "      <th>latitude</th>\n",
              "    </tr>\n",
              "  </thead>\n",
              "  <tbody>\n",
              "    <tr>\n",
              "      <th>1</th>\n",
              "      <td>5km</td>\n",
              "      <td>mudslide</td>\n",
              "      <td>downpour</td>\n",
              "      <td>small</td>\n",
              "      <td>unknown</td>\n",
              "      <td>United States</td>\n",
              "      <td>36619.0</td>\n",
              "      <td>-122.6630</td>\n",
              "      <td>45.4200</td>\n",
              "    </tr>\n",
              "    <tr>\n",
              "      <th>2</th>\n",
              "      <td>10km</td>\n",
              "      <td>landslide</td>\n",
              "      <td>downpour</td>\n",
              "      <td>large</td>\n",
              "      <td>unknown</td>\n",
              "      <td>Peru</td>\n",
              "      <td>14708.0</td>\n",
              "      <td>-75.3587</td>\n",
              "      <td>-11.1295</td>\n",
              "    </tr>\n",
              "    <tr>\n",
              "      <th>4</th>\n",
              "      <td>5km</td>\n",
              "      <td>landslide</td>\n",
              "      <td>tropical_cyclone</td>\n",
              "      <td>medium</td>\n",
              "      <td>unknown</td>\n",
              "      <td>Philippines</td>\n",
              "      <td>798634.0</td>\n",
              "      <td>123.8978</td>\n",
              "      <td>10.3336</td>\n",
              "    </tr>\n",
              "    <tr>\n",
              "      <th>5</th>\n",
              "      <td>5km</td>\n",
              "      <td>landslide</td>\n",
              "      <td>downpour</td>\n",
              "      <td>medium</td>\n",
              "      <td>unknown</td>\n",
              "      <td>Philippines</td>\n",
              "      <td>2404.0</td>\n",
              "      <td>124.9668</td>\n",
              "      <td>10.7004</td>\n",
              "    </tr>\n",
              "    <tr>\n",
              "      <th>6</th>\n",
              "      <td>5km</td>\n",
              "      <td>mudslide</td>\n",
              "      <td>downpour</td>\n",
              "      <td>small</td>\n",
              "      <td>unknown</td>\n",
              "      <td>United States</td>\n",
              "      <td>2126.0</td>\n",
              "      <td>-117.2665</td>\n",
              "      <td>48.2797</td>\n",
              "    </tr>\n",
              "  </tbody>\n",
              "</table>\n",
              "</div>"
            ],
            "text/plain": [
              "  location_accuracy landslide_category  ... longitude latitude\n",
              "1               5km           mudslide  ... -122.6630  45.4200\n",
              "2              10km          landslide  ...  -75.3587 -11.1295\n",
              "4               5km          landslide  ...  123.8978  10.3336\n",
              "5               5km          landslide  ...  124.9668  10.7004\n",
              "6               5km           mudslide  ... -117.2665  48.2797\n",
              "\n",
              "[5 rows x 9 columns]"
            ]
          },
          "metadata": {
            "tags": []
          },
          "execution_count": 9
        }
      ]
    },
    {
      "cell_type": "markdown",
      "metadata": {
        "id": "5Tu_yOsbjOXa"
      },
      "source": [
        "Encoding of categorical data"
      ]
    },
    {
      "cell_type": "code",
      "metadata": {
        "id": "br3bgafFj_5w"
      },
      "source": [
        "categorical = []\n",
        "for i in X_features:\n",
        "    if landslide_df[i].dtype==\"object\":\n",
        "        categorical.append(i)"
      ],
      "execution_count": 10,
      "outputs": []
    },
    {
      "cell_type": "code",
      "metadata": {
        "colab": {
          "base_uri": "https://localhost:8080/"
        },
        "id": "Of2y0IfTkVCy",
        "outputId": "44f274c2-9788-4ae3-a936-075e7b8e2826"
      },
      "source": [
        "from sklearn import preprocessing\n",
        "label_maps = {}\n",
        "for i in categorical:\n",
        "    le = preprocessing.LabelEncoder().fit(X[i])\n",
        "    X[i]=le.transform(X[i])\n",
        "    d = dict(zip(le.classes_, le.transform(le.classes_)))\n",
        "    label_maps[i] = d\n",
        "print(label_maps)"
      ],
      "execution_count": 11,
      "outputs": [
        {
          "output_type": "stream",
          "text": [
            "{'location_accuracy': {'100km': 0, '10km': 1, '1km': 2, '250km': 3, '25km': 4, '50km': 5, '5km': 6, 'exact': 7}, 'landslide_category': {'complex': 0, 'creep': 1, 'debris_flow': 2, 'earth_flow': 3, 'lahar': 4, 'landslide': 5, 'mudslide': 6, 'other': 7, 'riverbank_collapse': 8, 'rock_fall': 9, 'snow_avalanche': 10, 'translational_slide': 11}, 'landslide_trigger': {'construction': 0, 'continuous_rain': 1, 'dam_embankment_collapse': 2, 'downpour': 3, 'earthquake': 4, 'flooding': 5, 'freeze_thaw': 6, 'mining': 7, 'monsoon': 8, 'no_apparent_trigger': 9, 'other': 10, 'rain': 11, 'snowfall_snowmelt': 12, 'tropical_cyclone': 13, 'unknown': 14, 'volcano': 15}, 'landslide_size': {'large': 0, 'medium': 1, 'small': 2, 'unknown': 3, 'very_large': 4}, 'landslide_setting': {'above_river': 0, 'above_road': 1, 'below_road': 2, 'bluff': 3, 'burned_area': 4, 'deforested_slope': 5, 'engineered_slope': 6, 'mine': 7, 'natural_slope': 8, 'other': 9, 'retaining_wall': 10, 'unknown': 11, 'urban': 12}, 'country_name': {'Afghanistan': 0, 'Algeria': 1, 'American Samoa': 2, 'Angola': 3, 'Argentina': 4, 'Armenia': 5, 'Australia': 6, 'Austria': 7, 'Azerbaijan': 8, 'Bangladesh': 9, 'Barbados': 10, 'Belize': 11, 'Bermuda': 12, 'Bhutan': 13, 'Bolivia': 14, 'Bosnia and Herzegovina': 15, 'Brazil': 16, 'Brunei': 17, 'Bulgaria': 18, 'Burkina Faso': 19, 'Burundi': 20, 'Cameroon': 21, 'Canada': 22, 'Chile': 23, 'China': 24, 'Colombia': 25, 'Costa Rica': 26, 'Croatia': 27, 'Cuba': 28, 'Czech Republic': 29, 'Czechia': 30, 'Democratic Republic of the Congo': 31, 'Dominica': 32, 'Dominican Republic': 33, 'East Timor': 34, 'Ecuador': 35, 'Egypt': 36, 'El Salvador': 37, 'Ethiopia': 38, 'Fiji': 39, 'France': 40, 'Gabon': 41, 'Georgia': 42, 'Germany': 43, 'Ghana': 44, 'Greece': 45, 'Grenada': 46, 'Guam': 47, 'Guatemala': 48, 'Guinea': 49, 'Haiti': 50, 'Honduras': 51, 'Hong Kong': 52, 'Iceland': 53, 'India': 54, 'Indonesia': 55, 'Iran': 56, 'Ireland': 57, 'Isle of Man': 58, 'Israel': 59, 'Italy': 60, 'Ivory Coast': 61, 'Jamaica': 62, 'Japan': 63, 'Jersey': 64, 'Jordan': 65, 'Kazakhstan': 66, 'Kenya': 67, 'Kyrgyzstan': 68, 'Laos': 69, 'Lebanon': 70, 'Liberia': 71, 'Luxembourg': 72, 'Macedonia': 73, 'Madagascar': 74, 'Malaysia': 75, 'Mauritius': 76, 'Mexico': 77, 'Montenegro': 78, 'Morocco': 79, 'Myanmar [Burma]': 80, 'Namibia': 81, 'Nepal': 82, 'New Zealand': 83, 'Nicaragua': 84, 'Nigeria': 85, 'North Korea': 86, 'Norway': 87, 'Oman': 88, 'Pakistan': 89, 'Panama': 90, 'Papua New Guinea': 91, 'Paraguay': 92, 'Peru': 93, 'Philippines': 94, 'Poland': 95, 'Portugal': 96, 'Puerto Rico': 97, 'Republic of the Congo': 98, 'Romania': 99, 'Russia': 100, 'Rwanda': 101, 'Saint Kitts and Nevis': 102, 'Saint Lucia': 103, 'Saint Vincent and the Grenadines': 104, 'Saudi Arabia': 105, 'Serbia': 106, 'Sierra Leone': 107, 'Singapore': 108, 'Slovakia': 109, 'Slovenia': 110, 'Solomon Islands': 111, 'South Africa': 112, 'South Korea': 113, 'Spain': 114, 'Sri Lanka': 115, 'Sudan': 116, 'Swaziland': 117, 'Switzerland': 118, 'Taiwan': 119, 'Tajikistan': 120, 'Tanzania': 121, 'Thailand': 122, 'Trinidad and Tobago': 123, 'Turkey': 124, 'U.S. Virgin Islands': 125, 'Uganda': 126, 'Ukraine': 127, 'United Arab Emirates': 128, 'United Kingdom': 129, 'United States': 130, 'Uzbekistan': 131, 'Vanuatu': 132, 'Venezuela': 133, 'Vietnam': 134, 'Yemen': 135, 'Zambia': 136}}\n"
          ],
          "name": "stdout"
        },
        {
          "output_type": "stream",
          "text": [
            "/usr/local/lib/python3.7/dist-packages/ipykernel_launcher.py:5: SettingWithCopyWarning: \n",
            "A value is trying to be set on a copy of a slice from a DataFrame.\n",
            "Try using .loc[row_indexer,col_indexer] = value instead\n",
            "\n",
            "See the caveats in the documentation: https://pandas.pydata.org/pandas-docs/stable/user_guide/indexing.html#returning-a-view-versus-a-copy\n",
            "  \"\"\"\n"
          ],
          "name": "stderr"
        }
      ]
    },
    {
      "cell_type": "code",
      "metadata": {
        "colab": {
          "base_uri": "https://localhost:8080/",
          "height": 222
        },
        "id": "fTw7ZlerkkIk",
        "outputId": "6efffc37-c2db-4e23-ea2a-eae1cc67c932"
      },
      "source": [
        "X.head()"
      ],
      "execution_count": 12,
      "outputs": [
        {
          "output_type": "execute_result",
          "data": {
            "text/html": [
              "<div>\n",
              "<style scoped>\n",
              "    .dataframe tbody tr th:only-of-type {\n",
              "        vertical-align: middle;\n",
              "    }\n",
              "\n",
              "    .dataframe tbody tr th {\n",
              "        vertical-align: top;\n",
              "    }\n",
              "\n",
              "    .dataframe thead th {\n",
              "        text-align: right;\n",
              "    }\n",
              "</style>\n",
              "<table border=\"1\" class=\"dataframe\">\n",
              "  <thead>\n",
              "    <tr style=\"text-align: right;\">\n",
              "      <th></th>\n",
              "      <th>location_accuracy</th>\n",
              "      <th>landslide_category</th>\n",
              "      <th>landslide_trigger</th>\n",
              "      <th>landslide_size</th>\n",
              "      <th>landslide_setting</th>\n",
              "      <th>country_name</th>\n",
              "      <th>admin_division_population</th>\n",
              "      <th>longitude</th>\n",
              "      <th>latitude</th>\n",
              "    </tr>\n",
              "  </thead>\n",
              "  <tbody>\n",
              "    <tr>\n",
              "      <th>1</th>\n",
              "      <td>6</td>\n",
              "      <td>6</td>\n",
              "      <td>3</td>\n",
              "      <td>2</td>\n",
              "      <td>11</td>\n",
              "      <td>130</td>\n",
              "      <td>36619.0</td>\n",
              "      <td>-122.6630</td>\n",
              "      <td>45.4200</td>\n",
              "    </tr>\n",
              "    <tr>\n",
              "      <th>2</th>\n",
              "      <td>1</td>\n",
              "      <td>5</td>\n",
              "      <td>3</td>\n",
              "      <td>0</td>\n",
              "      <td>11</td>\n",
              "      <td>93</td>\n",
              "      <td>14708.0</td>\n",
              "      <td>-75.3587</td>\n",
              "      <td>-11.1295</td>\n",
              "    </tr>\n",
              "    <tr>\n",
              "      <th>4</th>\n",
              "      <td>6</td>\n",
              "      <td>5</td>\n",
              "      <td>13</td>\n",
              "      <td>1</td>\n",
              "      <td>11</td>\n",
              "      <td>94</td>\n",
              "      <td>798634.0</td>\n",
              "      <td>123.8978</td>\n",
              "      <td>10.3336</td>\n",
              "    </tr>\n",
              "    <tr>\n",
              "      <th>5</th>\n",
              "      <td>6</td>\n",
              "      <td>5</td>\n",
              "      <td>3</td>\n",
              "      <td>1</td>\n",
              "      <td>11</td>\n",
              "      <td>94</td>\n",
              "      <td>2404.0</td>\n",
              "      <td>124.9668</td>\n",
              "      <td>10.7004</td>\n",
              "    </tr>\n",
              "    <tr>\n",
              "      <th>6</th>\n",
              "      <td>6</td>\n",
              "      <td>6</td>\n",
              "      <td>3</td>\n",
              "      <td>2</td>\n",
              "      <td>11</td>\n",
              "      <td>130</td>\n",
              "      <td>2126.0</td>\n",
              "      <td>-117.2665</td>\n",
              "      <td>48.2797</td>\n",
              "    </tr>\n",
              "  </tbody>\n",
              "</table>\n",
              "</div>"
            ],
            "text/plain": [
              "   location_accuracy  landslide_category  ...  longitude  latitude\n",
              "1                  6                   6  ...  -122.6630   45.4200\n",
              "2                  1                   5  ...   -75.3587  -11.1295\n",
              "4                  6                   5  ...   123.8978   10.3336\n",
              "5                  6                   5  ...   124.9668   10.7004\n",
              "6                  6                   6  ...  -117.2665   48.2797\n",
              "\n",
              "[5 rows x 9 columns]"
            ]
          },
          "metadata": {
            "tags": []
          },
          "execution_count": 12
        }
      ]
    },
    {
      "cell_type": "markdown",
      "metadata": {
        "id": "0r-QRHiFcmCQ"
      },
      "source": [
        "Train and test split"
      ]
    },
    {
      "cell_type": "code",
      "metadata": {
        "id": "kjApf6KIbkwu"
      },
      "source": [
        "X_train, X_test, y_train, y_test = train_test_split(X, y, test_size = 0.20)"
      ],
      "execution_count": 13,
      "outputs": []
    },
    {
      "cell_type": "markdown",
      "metadata": {
        "id": "J0kKvdS_KjTX"
      },
      "source": [
        "Perform regression"
      ]
    },
    {
      "cell_type": "code",
      "metadata": {
        "id": "Z8DjynSrGtQY"
      },
      "source": [
        "clf = RandomForestRegressor(n_estimators=150, max_depth = None, criterion='mse')\n",
        "clf.fit(X_train, y_train)\n",
        "y_pred = clf.predict(X_test)"
      ],
      "execution_count": 14,
      "outputs": []
    },
    {
      "cell_type": "markdown",
      "metadata": {
        "id": "j45TfOEhKs1C"
      },
      "source": [
        "Evaluation"
      ]
    },
    {
      "cell_type": "code",
      "metadata": {
        "colab": {
          "base_uri": "https://localhost:8080/"
        },
        "id": "3YbNfMNcv58S",
        "outputId": "1a0344af-8f17-43b5-d99d-1aa9f2d7e55c"
      },
      "source": [
        "mean_absolute_error(y_test, y_pred)"
      ],
      "execution_count": 15,
      "outputs": [
        {
          "output_type": "execute_result",
          "data": {
            "text/plain": [
              "4.362983966560608"
            ]
          },
          "metadata": {
            "tags": []
          },
          "execution_count": 15
        }
      ]
    },
    {
      "cell_type": "markdown",
      "metadata": {
        "id": "Ye9Tzil7ivy9"
      },
      "source": [
        "# **INDIAN RAINFALL**"
      ]
    },
    {
      "cell_type": "markdown",
      "metadata": {
        "id": "z0L1gZHKRi1K"
      },
      "source": [
        "Read dataset"
      ]
    },
    {
      "cell_type": "code",
      "metadata": {
        "id": "WFWkpXJCiwCN"
      },
      "source": [
        "rainfall_df = pd.read_csv('Datasets/rainfall_india_1901-2017.csv')"
      ],
      "execution_count": 16,
      "outputs": []
    },
    {
      "cell_type": "code",
      "metadata": {
        "colab": {
          "base_uri": "https://localhost:8080/",
          "height": 202
        },
        "id": "VvJadMLY1IXo",
        "outputId": "e348c00a-c053-4619-b8b5-4c8c5ef1ef98"
      },
      "source": [
        "rainfall_df.head()"
      ],
      "execution_count": 17,
      "outputs": [
        {
          "output_type": "execute_result",
          "data": {
            "text/html": [
              "<div>\n",
              "<style scoped>\n",
              "    .dataframe tbody tr th:only-of-type {\n",
              "        vertical-align: middle;\n",
              "    }\n",
              "\n",
              "    .dataframe tbody tr th {\n",
              "        vertical-align: top;\n",
              "    }\n",
              "\n",
              "    .dataframe thead th {\n",
              "        text-align: right;\n",
              "    }\n",
              "</style>\n",
              "<table border=\"1\" class=\"dataframe\">\n",
              "  <thead>\n",
              "    <tr style=\"text-align: right;\">\n",
              "      <th></th>\n",
              "      <th>SUBDIVISION</th>\n",
              "      <th>YEAR</th>\n",
              "      <th>JAN</th>\n",
              "      <th>FEB</th>\n",
              "      <th>MAR</th>\n",
              "      <th>APR</th>\n",
              "      <th>MAY</th>\n",
              "      <th>JUN</th>\n",
              "      <th>JUL</th>\n",
              "      <th>AUG</th>\n",
              "      <th>SEP</th>\n",
              "      <th>OCT</th>\n",
              "      <th>NOV</th>\n",
              "      <th>DEC</th>\n",
              "      <th>ANNUAL</th>\n",
              "      <th>JF</th>\n",
              "      <th>MAM</th>\n",
              "      <th>JJAS</th>\n",
              "      <th>OND</th>\n",
              "    </tr>\n",
              "  </thead>\n",
              "  <tbody>\n",
              "    <tr>\n",
              "      <th>0</th>\n",
              "      <td>Andaman &amp; Nicobar Islands</td>\n",
              "      <td>1901</td>\n",
              "      <td>49.2</td>\n",
              "      <td>87.1</td>\n",
              "      <td>29.2</td>\n",
              "      <td>2.3</td>\n",
              "      <td>528.8</td>\n",
              "      <td>517.5</td>\n",
              "      <td>365.1</td>\n",
              "      <td>481.1</td>\n",
              "      <td>332.6</td>\n",
              "      <td>388.5</td>\n",
              "      <td>558.2</td>\n",
              "      <td>33.6</td>\n",
              "      <td>3373.2</td>\n",
              "      <td>136.3</td>\n",
              "      <td>560.3</td>\n",
              "      <td>1696.3</td>\n",
              "      <td>980.3</td>\n",
              "    </tr>\n",
              "    <tr>\n",
              "      <th>1</th>\n",
              "      <td>Andaman &amp; Nicobar Islands</td>\n",
              "      <td>1902</td>\n",
              "      <td>0.0</td>\n",
              "      <td>159.8</td>\n",
              "      <td>12.2</td>\n",
              "      <td>0.0</td>\n",
              "      <td>446.1</td>\n",
              "      <td>537.1</td>\n",
              "      <td>228.9</td>\n",
              "      <td>753.7</td>\n",
              "      <td>666.2</td>\n",
              "      <td>197.2</td>\n",
              "      <td>359.0</td>\n",
              "      <td>160.5</td>\n",
              "      <td>3520.7</td>\n",
              "      <td>159.8</td>\n",
              "      <td>458.3</td>\n",
              "      <td>2185.9</td>\n",
              "      <td>716.7</td>\n",
              "    </tr>\n",
              "    <tr>\n",
              "      <th>2</th>\n",
              "      <td>Andaman &amp; Nicobar Islands</td>\n",
              "      <td>1903</td>\n",
              "      <td>12.7</td>\n",
              "      <td>144.0</td>\n",
              "      <td>0.0</td>\n",
              "      <td>1.0</td>\n",
              "      <td>235.1</td>\n",
              "      <td>479.9</td>\n",
              "      <td>728.4</td>\n",
              "      <td>326.7</td>\n",
              "      <td>339.0</td>\n",
              "      <td>181.2</td>\n",
              "      <td>284.4</td>\n",
              "      <td>225.0</td>\n",
              "      <td>2957.4</td>\n",
              "      <td>156.7</td>\n",
              "      <td>236.1</td>\n",
              "      <td>1874.0</td>\n",
              "      <td>690.6</td>\n",
              "    </tr>\n",
              "    <tr>\n",
              "      <th>3</th>\n",
              "      <td>Andaman &amp; Nicobar Islands</td>\n",
              "      <td>1904</td>\n",
              "      <td>9.4</td>\n",
              "      <td>14.7</td>\n",
              "      <td>0.0</td>\n",
              "      <td>202.4</td>\n",
              "      <td>304.5</td>\n",
              "      <td>495.1</td>\n",
              "      <td>502.0</td>\n",
              "      <td>160.1</td>\n",
              "      <td>820.4</td>\n",
              "      <td>222.2</td>\n",
              "      <td>308.7</td>\n",
              "      <td>40.1</td>\n",
              "      <td>3079.6</td>\n",
              "      <td>24.1</td>\n",
              "      <td>506.9</td>\n",
              "      <td>1977.6</td>\n",
              "      <td>571.0</td>\n",
              "    </tr>\n",
              "    <tr>\n",
              "      <th>4</th>\n",
              "      <td>Andaman &amp; Nicobar Islands</td>\n",
              "      <td>1905</td>\n",
              "      <td>1.3</td>\n",
              "      <td>0.0</td>\n",
              "      <td>3.3</td>\n",
              "      <td>26.9</td>\n",
              "      <td>279.5</td>\n",
              "      <td>628.7</td>\n",
              "      <td>368.7</td>\n",
              "      <td>330.5</td>\n",
              "      <td>297.0</td>\n",
              "      <td>260.7</td>\n",
              "      <td>25.4</td>\n",
              "      <td>344.7</td>\n",
              "      <td>2566.7</td>\n",
              "      <td>1.3</td>\n",
              "      <td>309.7</td>\n",
              "      <td>1624.9</td>\n",
              "      <td>630.8</td>\n",
              "    </tr>\n",
              "  </tbody>\n",
              "</table>\n",
              "</div>"
            ],
            "text/plain": [
              "                 SUBDIVISION  YEAR   JAN    FEB  ...     JF    MAM    JJAS    OND\n",
              "0  Andaman & Nicobar Islands  1901  49.2   87.1  ...  136.3  560.3  1696.3  980.3\n",
              "1  Andaman & Nicobar Islands  1902   0.0  159.8  ...  159.8  458.3  2185.9  716.7\n",
              "2  Andaman & Nicobar Islands  1903  12.7  144.0  ...  156.7  236.1  1874.0  690.6\n",
              "3  Andaman & Nicobar Islands  1904   9.4   14.7  ...   24.1  506.9  1977.6  571.0\n",
              "4  Andaman & Nicobar Islands  1905   1.3    0.0  ...    1.3  309.7  1624.9  630.8\n",
              "\n",
              "[5 rows x 19 columns]"
            ]
          },
          "metadata": {
            "tags": []
          },
          "execution_count": 17
        }
      ]
    },
    {
      "cell_type": "markdown",
      "metadata": {
        "id": "z2GpOmlRKXFV"
      },
      "source": [
        "Deal with NaN values"
      ]
    },
    {
      "cell_type": "code",
      "metadata": {
        "id": "FYFJSO3e2tjf"
      },
      "source": [
        "rainfall_df.fillna(value = 0, inplace = True)"
      ],
      "execution_count": 18,
      "outputs": []
    },
    {
      "cell_type": "markdown",
      "metadata": {
        "id": "lfklpMMlKaq5"
      },
      "source": [
        "Split train and test sets"
      ]
    },
    {
      "cell_type": "code",
      "metadata": {
        "id": "mhjl0nle205h"
      },
      "source": [
        "div_data = np.asarray(rainfall_df[['JAN', 'FEB', 'MAR', 'APR', 'MAY', 'JUN', 'JUL', 'AUG', 'SEP', 'OCT', 'NOV', 'DEC']])\n",
        "\n",
        "X = None; y = None\n",
        "for i in range(div_data.shape[1]-3):\n",
        "    if X is None: \n",
        "        X = div_data[:, i:i+3] # Three consecutive months\n",
        "        y = div_data[:, i+3] # Next (fourth) month\n",
        "    else:\n",
        "        X = np.concatenate((X, div_data[:, i:i+3]), axis=0) # Three consecutive months\n",
        "        y = np.concatenate((y, div_data[:, i+3]), axis=0) # Next (fourth) month\n",
        "        \n",
        "X_train, X_test, y_train, y_test = train_test_split(X, y, test_size=0.2, random_state=5)"
      ],
      "execution_count": 19,
      "outputs": []
    },
    {
      "cell_type": "code",
      "metadata": {
        "colab": {
          "base_uri": "https://localhost:8080/"
        },
        "id": "8d6InMtvhHjy",
        "outputId": "5312fba8-d885-4504-c1ab-43aab6ecd7ea"
      },
      "source": [
        "X_test"
      ],
      "execution_count": 20,
      "outputs": [
        {
          "output_type": "execute_result",
          "data": {
            "text/plain": [
              "array([[247.8, 290.9,  30.4],\n",
              "       [ 32.3,  26.6,  14.8],\n",
              "       [  8.1,  14.1, 209.2],\n",
              "       ...,\n",
              "       [204.7, 222.7,   1.3],\n",
              "       [210. ,  82.1, 138.4],\n",
              "       [  1.6,   0.4,   0.6]])"
            ]
          },
          "metadata": {
            "tags": []
          },
          "execution_count": 20
        }
      ]
    },
    {
      "cell_type": "markdown",
      "metadata": {
        "id": "IjxYKh0MKfTF"
      },
      "source": [
        "Perform Regression"
      ]
    },
    {
      "cell_type": "code",
      "metadata": {
        "id": "4Itcpmgy3G-3"
      },
      "source": [
        "rf = RandomForestRegressor(n_estimators = 200, max_depth=10)\n",
        "rf.fit(X_train, y_train)\n",
        "y_pred = rf.predict(X_test)"
      ],
      "execution_count": 21,
      "outputs": []
    },
    {
      "cell_type": "markdown",
      "metadata": {
        "id": "BMEcew8E5WkM"
      },
      "source": [
        "Evaluate"
      ]
    },
    {
      "cell_type": "code",
      "metadata": {
        "colab": {
          "base_uri": "https://localhost:8080/"
        },
        "id": "LBPCoU2vyCai",
        "outputId": "591bda15-d128-4f1f-dad5-8167aefe1a49"
      },
      "source": [
        "mean_absolute_error(y_test, y_pred)"
      ],
      "execution_count": 22,
      "outputs": [
        {
          "output_type": "execute_result",
          "data": {
            "text/plain": [
              "83.55932273440942"
            ]
          },
          "metadata": {
            "tags": []
          },
          "execution_count": 22
        }
      ]
    },
    {
      "cell_type": "markdown",
      "metadata": {
        "id": "WpHWxBhIZn3O"
      },
      "source": [
        "# **USA EARTHQUAKES**"
      ]
    },
    {
      "cell_type": "code",
      "metadata": {
        "id": "rcrBliN3jloW"
      },
      "source": [
        "earthquake_df = pd.read_csv('Datasets/earthquake-all-month.csv')"
      ],
      "execution_count": 23,
      "outputs": []
    },
    {
      "cell_type": "code",
      "metadata": {
        "id": "LB38zLj01AH-"
      },
      "source": [
        "import re\n",
        "earthquake_df['short place']=[re.findall(r'\\w+',i)[-1] for i in earthquake_df['place']]\n",
        "earthquake_df.dropna(subset=['mag'],inplace=True)"
      ],
      "execution_count": 24,
      "outputs": []
    },
    {
      "cell_type": "markdown",
      "metadata": {
        "id": "T7OhyfqDmx0q"
      },
      "source": [
        "Feature vector"
      ]
    },
    {
      "cell_type": "code",
      "metadata": {
        "id": "PiaaUHDjmtSF"
      },
      "source": [
        "features=[i for i in earthquake_df.columns if earthquake_df[i].isna().sum()==0] # features include only place, type and source of an earthquake\n",
        "\n",
        "for i in ['mag','place','time','id','updated','net','magType','depth','depthError']:\n",
        "    features.remove(i)\n",
        "    \n",
        "X=earthquake_df[features]\n",
        "y=earthquake_df[['mag','depth', 'depthError']] # we try to predict magnitude, depth & depthError  "
      ],
      "execution_count": 25,
      "outputs": []
    },
    {
      "cell_type": "code",
      "metadata": {
        "colab": {
          "base_uri": "https://localhost:8080/"
        },
        "id": "FERqlITRN3Cy",
        "outputId": "3b1909c5-5517-448b-869b-23aa11ff0c1b"
      },
      "source": [
        "features"
      ],
      "execution_count": 26,
      "outputs": [
        {
          "output_type": "execute_result",
          "data": {
            "text/plain": [
              "['latitude',\n",
              " 'longitude',\n",
              " 'rms',\n",
              " 'type',\n",
              " 'status',\n",
              " 'locationSource',\n",
              " 'magSource',\n",
              " 'short place']"
            ]
          },
          "metadata": {
            "tags": []
          },
          "execution_count": 26
        }
      ]
    },
    {
      "cell_type": "code",
      "metadata": {
        "id": "YK7ngDWHsgmz"
      },
      "source": [
        "df = pd.merge(X,y, left_index=True, right_index=True)\n",
        "df.to_csv(path_or_buf='Datasets/Processed dataset/earthquake_df.csv')"
      ],
      "execution_count": 27,
      "outputs": []
    },
    {
      "cell_type": "markdown",
      "metadata": {
        "id": "d15PCqSmoGDZ"
      },
      "source": [
        "Segregate categorical data"
      ]
    },
    {
      "cell_type": "code",
      "metadata": {
        "id": "M99hSzraoCoK"
      },
      "source": [
        "categorical = []\n",
        "for i in features:\n",
        "    if earthquake_df[i].dtype==\"object\":\n",
        "        categorical.append(i)"
      ],
      "execution_count": 28,
      "outputs": []
    },
    {
      "cell_type": "markdown",
      "metadata": {
        "id": "SEHfF_4boR8O"
      },
      "source": [
        "Encode the data"
      ]
    },
    {
      "cell_type": "code",
      "metadata": {
        "colab": {
          "base_uri": "https://localhost:8080/",
          "height": 202
        },
        "id": "2ep_ub_IO5VD",
        "outputId": "f171d9af-d72d-419d-e045-13461ff7dfbb"
      },
      "source": [
        "X.head()"
      ],
      "execution_count": 29,
      "outputs": [
        {
          "output_type": "execute_result",
          "data": {
            "text/html": [
              "<div>\n",
              "<style scoped>\n",
              "    .dataframe tbody tr th:only-of-type {\n",
              "        vertical-align: middle;\n",
              "    }\n",
              "\n",
              "    .dataframe tbody tr th {\n",
              "        vertical-align: top;\n",
              "    }\n",
              "\n",
              "    .dataframe thead th {\n",
              "        text-align: right;\n",
              "    }\n",
              "</style>\n",
              "<table border=\"1\" class=\"dataframe\">\n",
              "  <thead>\n",
              "    <tr style=\"text-align: right;\">\n",
              "      <th></th>\n",
              "      <th>latitude</th>\n",
              "      <th>longitude</th>\n",
              "      <th>rms</th>\n",
              "      <th>type</th>\n",
              "      <th>status</th>\n",
              "      <th>locationSource</th>\n",
              "      <th>magSource</th>\n",
              "      <th>short place</th>\n",
              "    </tr>\n",
              "  </thead>\n",
              "  <tbody>\n",
              "    <tr>\n",
              "      <th>0</th>\n",
              "      <td>33.262167</td>\n",
              "      <td>-117.526000</td>\n",
              "      <td>0.17</td>\n",
              "      <td>earthquake</td>\n",
              "      <td>automatic</td>\n",
              "      <td>ci</td>\n",
              "      <td>ci</td>\n",
              "      <td>CA</td>\n",
              "    </tr>\n",
              "    <tr>\n",
              "      <th>1</th>\n",
              "      <td>19.146000</td>\n",
              "      <td>-155.469162</td>\n",
              "      <td>0.16</td>\n",
              "      <td>earthquake</td>\n",
              "      <td>automatic</td>\n",
              "      <td>hv</td>\n",
              "      <td>hv</td>\n",
              "      <td>Hawaii</td>\n",
              "    </tr>\n",
              "    <tr>\n",
              "      <th>2</th>\n",
              "      <td>19.478000</td>\n",
              "      <td>-155.647833</td>\n",
              "      <td>0.10</td>\n",
              "      <td>earthquake</td>\n",
              "      <td>reviewed</td>\n",
              "      <td>hv</td>\n",
              "      <td>hv</td>\n",
              "      <td>Hawaii</td>\n",
              "    </tr>\n",
              "    <tr>\n",
              "      <th>3</th>\n",
              "      <td>59.997900</td>\n",
              "      <td>-152.705500</td>\n",
              "      <td>0.40</td>\n",
              "      <td>earthquake</td>\n",
              "      <td>automatic</td>\n",
              "      <td>ak</td>\n",
              "      <td>ak</td>\n",
              "      <td>Alaska</td>\n",
              "    </tr>\n",
              "    <tr>\n",
              "      <th>4</th>\n",
              "      <td>56.744000</td>\n",
              "      <td>-156.374500</td>\n",
              "      <td>0.41</td>\n",
              "      <td>earthquake</td>\n",
              "      <td>automatic</td>\n",
              "      <td>ak</td>\n",
              "      <td>ak</td>\n",
              "      <td>Alaska</td>\n",
              "    </tr>\n",
              "  </tbody>\n",
              "</table>\n",
              "</div>"
            ],
            "text/plain": [
              "    latitude   longitude   rms  ... locationSource magSource short place\n",
              "0  33.262167 -117.526000  0.17  ...             ci        ci          CA\n",
              "1  19.146000 -155.469162  0.16  ...             hv        hv      Hawaii\n",
              "2  19.478000 -155.647833  0.10  ...             hv        hv      Hawaii\n",
              "3  59.997900 -152.705500  0.40  ...             ak        ak      Alaska\n",
              "4  56.744000 -156.374500  0.41  ...             ak        ak      Alaska\n",
              "\n",
              "[5 rows x 8 columns]"
            ]
          },
          "metadata": {
            "tags": []
          },
          "execution_count": 29
        }
      ]
    },
    {
      "cell_type": "code",
      "metadata": {
        "colab": {
          "base_uri": "https://localhost:8080/"
        },
        "id": "299HyBl2oTvl",
        "outputId": "9f8fb3c6-6db8-494d-a910-ab0c7d8c34ec"
      },
      "source": [
        "from sklearn import preprocessing\n",
        "label_maps = {}\n",
        "for i in categorical:\n",
        "    le = preprocessing.LabelEncoder().fit(X[i])\n",
        "    X[i]=le.transform(X[i])\n",
        "    d = dict(zip(le.classes_, le.transform(le.classes_)))\n",
        "    label_maps[i] = d\n",
        "print(label_maps)"
      ],
      "execution_count": 30,
      "outputs": [
        {
          "output_type": "stream",
          "text": [
            "{'type': {'earthquake': 0, 'explosion': 1, 'ice quake': 2, 'other event': 3, 'quarry blast': 4}, 'status': {'automatic': 0, 'reviewed': 1}, 'locationSource': {'ak': 0, 'av': 1, 'ci': 2, 'hv': 3, 'mb': 4, 'nc': 5, 'nm': 6, 'nn': 7, 'ok': 8, 'pr': 9, 'se': 10, 'tx': 11, 'us': 12, 'uu': 13, 'uw': 14}, 'magSource': {'ak': 0, 'av': 1, 'ci': 2, 'guc': 3, 'hv': 4, 'mb': 5, 'nc': 6, 'nm': 7, 'nn': 8, 'ok': 9, 'pr': 10, 'se': 11, 'tx': 12, 'us': 13, 'uu': 14, 'uw': 15}, 'short place': {'Afghanistan': 0, 'Africa': 1, 'Alabama': 2, 'Alaska': 3, 'Albania': 4, 'Algeria': 5, 'America': 6, 'Argentina': 7, 'Arizona': 8, 'Arkansas': 9, 'Austria': 10, 'Barbados': 11, 'Bhutan': 12, 'Bolivia': 13, 'Brazil': 14, 'CA': 15, 'Caledonia': 16, 'California': 17, 'Canada': 18, 'Chile': 19, 'China': 20, 'Colombia': 21, 'Colorado': 22, 'Congo': 23, 'Dakota': 24, 'Dominica': 25, 'Ecuador': 26, 'Fiji': 27, 'Georgia': 28, 'Greece': 29, 'Guadeloupe': 30, 'Guam': 31, 'Guatemala': 32, 'Guinea': 33, 'Guyana': 34, 'Haiti': 35, 'Hawaii': 36, 'Helena': 37, 'Herzegovina': 38, 'Honduras': 39, 'Iceland': 40, 'Idaho': 41, 'Illinois': 42, 'India': 43, 'Indonesia': 44, 'Iran': 45, 'Iraq': 46, 'Island': 47, 'Islands': 48, 'Italy': 49, 'Japan': 50, 'Junction': 51, 'Kansas': 52, 'Kentucky': 53, 'Leste': 54, 'Libya': 55, 'Louisiana': 56, 'MX': 57, 'Maine': 58, 'Mayen': 59, 'Mexico': 60, 'Micronesia': 61, 'Missouri': 62, 'Mongolia': 63, 'Montana': 64, 'Myanmar': 65, 'NV': 66, 'Namibia': 67, 'Nevada': 68, 'Nicaragua': 69, 'Ocean': 70, 'Oklahoma': 71, 'Oregon': 72, 'Pakistan': 73, 'Panama': 74, 'Peninsula': 75, 'Peru': 76, 'Philippines': 77, 'Portugal': 78, 'Republic': 79, 'Rica': 80, 'Rico': 81, 'Ridge': 82, 'Rise': 83, 'Romania': 84, 'Russia': 85, 'Salvador': 86, 'Sea': 87, 'Svalbard': 88, 'Taiwan': 89, 'Tajikistan': 90, 'Tennessee': 91, 'Texas': 92, 'Tonga': 93, 'Turkey': 94, 'Turkmenistan': 95, 'Uganda': 96, 'Utah': 97, 'Vanuatu': 98, 'Venezuela': 99, 'Vietnam': 100, 'Washington': 101, 'Wyoming': 102, 'Xizang': 103, 'York': 104, 'Zealand': 105, 'region': 106}}\n"
          ],
          "name": "stdout"
        },
        {
          "output_type": "stream",
          "text": [
            "/usr/local/lib/python3.7/dist-packages/ipykernel_launcher.py:5: SettingWithCopyWarning: \n",
            "A value is trying to be set on a copy of a slice from a DataFrame.\n",
            "Try using .loc[row_indexer,col_indexer] = value instead\n",
            "\n",
            "See the caveats in the documentation: https://pandas.pydata.org/pandas-docs/stable/user_guide/indexing.html#returning-a-view-versus-a-copy\n",
            "  \"\"\"\n"
          ],
          "name": "stderr"
        }
      ]
    },
    {
      "cell_type": "code",
      "metadata": {
        "colab": {
          "base_uri": "https://localhost:8080/"
        },
        "id": "xwt5U_chvHlm",
        "outputId": "8e50de1d-1981-4a46-fb30-e6525b241bef"
      },
      "source": [
        "label_maps.keys()"
      ],
      "execution_count": 31,
      "outputs": [
        {
          "output_type": "execute_result",
          "data": {
            "text/plain": [
              "dict_keys(['type', 'status', 'locationSource', 'magSource', 'short place'])"
            ]
          },
          "metadata": {
            "tags": []
          },
          "execution_count": 31
        }
      ]
    },
    {
      "cell_type": "markdown",
      "metadata": {
        "id": "cq978z08oaRw"
      },
      "source": [
        "Train and test split"
      ]
    },
    {
      "cell_type": "code",
      "metadata": {
        "id": "zrYo3-J9ocZp"
      },
      "source": [
        "X_train, X_test, y_train, y_test = train_test_split(X,y,test_size=0.10)"
      ],
      "execution_count": 32,
      "outputs": []
    },
    {
      "cell_type": "code",
      "metadata": {
        "colab": {
          "base_uri": "https://localhost:8080/",
          "height": 202
        },
        "id": "k1fEjrt1iZOx",
        "outputId": "9cce78a7-d3a0-4e8c-ea61-652daaa1db47"
      },
      "source": [
        "X_train.head()"
      ],
      "execution_count": 33,
      "outputs": [
        {
          "output_type": "execute_result",
          "data": {
            "text/html": [
              "<div>\n",
              "<style scoped>\n",
              "    .dataframe tbody tr th:only-of-type {\n",
              "        vertical-align: middle;\n",
              "    }\n",
              "\n",
              "    .dataframe tbody tr th {\n",
              "        vertical-align: top;\n",
              "    }\n",
              "\n",
              "    .dataframe thead th {\n",
              "        text-align: right;\n",
              "    }\n",
              "</style>\n",
              "<table border=\"1\" class=\"dataframe\">\n",
              "  <thead>\n",
              "    <tr style=\"text-align: right;\">\n",
              "      <th></th>\n",
              "      <th>latitude</th>\n",
              "      <th>longitude</th>\n",
              "      <th>rms</th>\n",
              "      <th>type</th>\n",
              "      <th>status</th>\n",
              "      <th>locationSource</th>\n",
              "      <th>magSource</th>\n",
              "      <th>short place</th>\n",
              "    </tr>\n",
              "  </thead>\n",
              "  <tbody>\n",
              "    <tr>\n",
              "      <th>8524</th>\n",
              "      <td>40.268667</td>\n",
              "      <td>-124.281667</td>\n",
              "      <td>0.05</td>\n",
              "      <td>0</td>\n",
              "      <td>1</td>\n",
              "      <td>5</td>\n",
              "      <td>6</td>\n",
              "      <td>15</td>\n",
              "    </tr>\n",
              "    <tr>\n",
              "      <th>5211</th>\n",
              "      <td>46.885333</td>\n",
              "      <td>-112.492000</td>\n",
              "      <td>0.12</td>\n",
              "      <td>0</td>\n",
              "      <td>1</td>\n",
              "      <td>4</td>\n",
              "      <td>5</td>\n",
              "      <td>64</td>\n",
              "    </tr>\n",
              "    <tr>\n",
              "      <th>3075</th>\n",
              "      <td>35.699000</td>\n",
              "      <td>-117.488167</td>\n",
              "      <td>0.14</td>\n",
              "      <td>0</td>\n",
              "      <td>1</td>\n",
              "      <td>2</td>\n",
              "      <td>2</td>\n",
              "      <td>15</td>\n",
              "    </tr>\n",
              "    <tr>\n",
              "      <th>5510</th>\n",
              "      <td>52.865600</td>\n",
              "      <td>-169.860300</td>\n",
              "      <td>0.30</td>\n",
              "      <td>0</td>\n",
              "      <td>1</td>\n",
              "      <td>12</td>\n",
              "      <td>0</td>\n",
              "      <td>3</td>\n",
              "    </tr>\n",
              "    <tr>\n",
              "      <th>4928</th>\n",
              "      <td>16.912900</td>\n",
              "      <td>147.615600</td>\n",
              "      <td>1.15</td>\n",
              "      <td>0</td>\n",
              "      <td>1</td>\n",
              "      <td>12</td>\n",
              "      <td>13</td>\n",
              "      <td>48</td>\n",
              "    </tr>\n",
              "  </tbody>\n",
              "</table>\n",
              "</div>"
            ],
            "text/plain": [
              "       latitude   longitude   rms  ...  locationSource  magSource  short place\n",
              "8524  40.268667 -124.281667  0.05  ...               5          6           15\n",
              "5211  46.885333 -112.492000  0.12  ...               4          5           64\n",
              "3075  35.699000 -117.488167  0.14  ...               2          2           15\n",
              "5510  52.865600 -169.860300  0.30  ...              12          0            3\n",
              "4928  16.912900  147.615600  1.15  ...              12         13           48\n",
              "\n",
              "[5 rows x 8 columns]"
            ]
          },
          "metadata": {
            "tags": []
          },
          "execution_count": 33
        }
      ]
    },
    {
      "cell_type": "markdown",
      "metadata": {
        "id": "a1TwkJqPogm9"
      },
      "source": [
        "Random forest regressor"
      ]
    },
    {
      "cell_type": "code",
      "metadata": {
        "colab": {
          "base_uri": "https://localhost:8080/"
        },
        "id": "p2GWZNOzoikL",
        "outputId": "40582bd1-2539-41bd-d680-1608e2b3c69b"
      },
      "source": [
        "from sklearn.datasets import make_classification\n",
        "clf = RandomForestRegressor(n_estimators=100, criterion='mse', max_depth=None, min_samples_split=2, min_samples_leaf=1, min_weight_fraction_leaf=0.0, max_features='auto', max_leaf_nodes=None, min_impurity_decrease=0.0, min_impurity_split=None, bootstrap=True, oob_score=False, n_jobs=None, random_state=None, verbose=0, warm_start=False, ccp_alpha=0.0, max_samples=None)\n",
        "clf.fit(X_train, y_train)"
      ],
      "execution_count": 34,
      "outputs": [
        {
          "output_type": "execute_result",
          "data": {
            "text/plain": [
              "RandomForestRegressor(bootstrap=True, ccp_alpha=0.0, criterion='mse',\n",
              "                      max_depth=None, max_features='auto', max_leaf_nodes=None,\n",
              "                      max_samples=None, min_impurity_decrease=0.0,\n",
              "                      min_impurity_split=None, min_samples_leaf=1,\n",
              "                      min_samples_split=2, min_weight_fraction_leaf=0.0,\n",
              "                      n_estimators=100, n_jobs=None, oob_score=False,\n",
              "                      random_state=None, verbose=0, warm_start=False)"
            ]
          },
          "metadata": {
            "tags": []
          },
          "execution_count": 34
        }
      ]
    },
    {
      "cell_type": "code",
      "metadata": {
        "id": "uO4HzRo2pnzn"
      },
      "source": [
        "y_pred = clf.predict(X_test)"
      ],
      "execution_count": 35,
      "outputs": []
    },
    {
      "cell_type": "code",
      "metadata": {
        "colab": {
          "base_uri": "https://localhost:8080/"
        },
        "id": "K2GY6391MhaM",
        "outputId": "c85bb5bc-3e88-4c47-a5f7-b3895c1c812e"
      },
      "source": [
        "clf.predict([[33.262167, -117.526, 0.17, 0, 0, 2, 2, 15]])"
      ],
      "execution_count": 36,
      "outputs": [
        {
          "output_type": "execute_result",
          "data": {
            "text/plain": [
              "array([[ 1.1203, 11.217 ,  1.2008]])"
            ]
          },
          "metadata": {
            "tags": []
          },
          "execution_count": 36
        }
      ]
    },
    {
      "cell_type": "markdown",
      "metadata": {
        "id": "w0tBsPkQopI2"
      },
      "source": [
        "Evaluate"
      ]
    },
    {
      "cell_type": "code",
      "metadata": {
        "colab": {
          "base_uri": "https://localhost:8080/"
        },
        "id": "aKuSmjVMpdYO",
        "outputId": "4181e2e7-a37c-451d-8c87-f58f1a1bca86"
      },
      "source": [
        "mean_absolute_error(y_test, y_pred)"
      ],
      "execution_count": 37,
      "outputs": [
        {
          "output_type": "execute_result",
          "data": {
            "text/plain": [
              "4.133086938325434"
            ]
          },
          "metadata": {
            "tags": []
          },
          "execution_count": 37
        }
      ]
    }
  ]
}